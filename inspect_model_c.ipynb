{
 "cells": [
  {
   "cell_type": "markdown",
   "id": "f2632d61-0b26-4afc-be61-4c3605556e7a",
   "metadata": {},
   "source": [
    "Model the correction factor c using a weighted linear regression model"
   ]
  },
  {
   "cell_type": "code",
   "execution_count": null,
   "id": "685dcf7d-b083-4c50-b14a-88147eaf0a59",
   "metadata": {},
   "outputs": [],
   "source": [
    "# use kernel [conda env:ml]\n",
    "import os\n",
    "import csv\n",
    "import _csv\n",
    "import psutil\n",
    "import multiprocessing as mp\n",
    "from typing import TextIO, Union, List\n",
    "\n",
    "import numpy as np\n",
    "import osmnx as ox\n",
    "import pandas as pd\n",
    "import geopandas as gpd\n",
    "import pyproj\n",
    "from collections import Counter\n",
    "import time\n",
    "import itertools\n",
    "\n",
    "#from aggregator_multi import create_graph\n",
    "# from .projection_data import projection_data_class\n",
    "import networkx as nx\n",
    "import matplotlib.pyplot as plt\n",
    "import matplotlib.cm as cm\n",
    "import matplotlib as mpl\n",
    "from matplotlib.colors import ListedColormap\n",
    "\n",
    "import statsmodels.api as sm #for linear regression\n",
    "\n",
    "from sklearn.ensemble import RandomForestRegressor\n",
    "from sklearn.inspection import permutation_importance #to get permutation importance of variables\n",
    "\n",
    "#for train test split\n",
    "from sklearn.model_selection import train_test_split\n",
    "\n",
    "#for rmse\n",
    "from statsmodels.tools.eval_measures import rmse"
   ]
  },
  {
   "cell_type": "code",
   "execution_count": null,
   "id": "3ba34c4e-bf71-4dbe-ab98-abe3e3a40358",
   "metadata": {},
   "outputs": [],
   "source": [
    "%store -r Ngraph\n",
    "%store -r edges2\n",
    "%store -r nodes\n",
    "%store -r traffic"
   ]
  },
  {
   "cell_type": "code",
   "execution_count": null,
   "id": "ee4170f9-73d0-424e-8aa3-55826f2e4813",
   "metadata": {},
   "outputs": [],
   "source": [
    "def plot_result(x, y, x_label = \"$\\sqrt{\\hat{c} * exp}$\", y_label = \"$\\sqrt{obs}$\", save_fig = False, save_path = None):\n",
    "\n",
    "    fig, ax = plt.subplots(figsize = (6,4))\n",
    "    plt.style.use(\"bmh\")\n",
    "    # Plots #\n",
    "        # Plot scatter\n",
    "    plt.scatter(x, y, s = 1)\n",
    "\n",
    "    #obtain m (slope) and b(intercept) of linear regression line\n",
    "    m, b = np.polyfit(x, y, 1)\n",
    "\n",
    "    #add linear regression line to scatterplot \n",
    "    plt.plot(x, m*x+b,color = \"red\")\n",
    "\n",
    "    # X #\n",
    "    ax.set_xlabel(x_label)\n",
    "\n",
    "    # Y #\n",
    "    #ax.set_yticks([])\n",
    "        # Relabel the axis as \"Frequency\"\n",
    "    ax.set_ylabel(y_label)\n",
    "\n",
    "    # Overall #\n",
    "    #ax.set_title(\"Relationship between observed and expected traffic counts\")\n",
    "    # Remove ticks and spines\n",
    "    ax.tick_params(left = False, bottom = False)\n",
    "    for ax, spine in ax.spines.items():\n",
    "        spine.set_visible(False)\n",
    "\n",
    "   # add rmse, r^2 and correlation coefficient \n",
    "    #first build linear regression model\n",
    "    X = x\n",
    "    X = sm.add_constant(X) # adding a constant\n",
    "    model_plot = sm.OLS(y, X).fit()\n",
    "\n",
    "    #get pearsons correlation coefficient\n",
    "    corr_matrix = np.corrcoef(x,y)\n",
    "\n",
    "    plt.annotate(text = (\"$R^2$ = {:.3f}\".format(model_plot.rsquared) + \"\\ncorr = {:.3f}\".format(corr_matrix[1, 0])), xy = (.8, .85), xycoords = 'axes fraction')\n",
    "    plt.grid(False)\n",
    "    plt.rcParams['font.family'] = ['serif']\n",
    "    \n",
    "    if save_fig == True:\n",
    "        fig.savefig(save_path, bbox_inches = \"tight\", pad_inches = 0, dpi=10, format = \"pdf\")\n",
    "        \n",
    "    plt.show()"
   ]
  },
  {
   "cell_type": "code",
   "execution_count": null,
   "id": "27deda4e-eabb-4718-93e0-edd6df0aa4e9",
   "metadata": {},
   "outputs": [],
   "source": [
    "def result_scatter(c_cb, Xtest = X_test, fig_save = False, path_save = None):\n",
    "    Xresult = Xtest.copy()\n",
    "#    c_cb = np.where(c_cb < 0, 0.0001, c_cb)\n",
    "    Xresult[\"c_hat\"] = c_cb**3\n",
    "    Xresult[\"c_hat\"] = np.where(Xresult[\"c_hat\"] < 0, 0.0001, Xresult[\"c_hat\"])  # The linear regression may predict a calibration factor that is below 0. Substantially, this can be interpreted as a calibration factor that is very close to 0. We interpret these as just very close to 0\n",
    "    Xresult[\"c_exp_car\"] = Xresult[\"exp_car\"] * Xresult[\"c_hat\"]\n",
    "\n",
    "    y = Xresult[\"obs_car\"] ** (1/2) \n",
    "    x = Xresult[\"c_exp_car\"] ** (1/2)\n",
    "\n",
    "    plot_result(x = x, y = y, x_label = \"$\\sqrt{\\hat{c} * exp}$\", y_label = \"$\\sqrt{obs}$\", save_fig = fig_save, save_path = path_save)"
   ]
  },
  {
   "cell_type": "code",
   "execution_count": null,
   "id": "c42a5dc3-5b3f-4117-847f-82584fd31f02",
   "metadata": {},
   "outputs": [],
   "source": [
    "def add_features_to_edge(df, edges, features = [\"added_feature\"], node_from = \"node_from\", node_to = \"node_to\", indexerror = np.nan):\n",
    "\n",
    "    # Code is a simplified and generalized version of Yvonne Gootzen's visualize_intensities function\n",
    "    edge_idx_0 = [idx[0] for idx, _ in edges.iterrows()]\n",
    "    edge_idx_1 = [idx[1] for idx, _ in edges.iterrows()]\n",
    "    \n",
    "    n_features = len(features)\n",
    "    features_list = [[] for _ in range(n_features)]\n",
    "    for nf, nt in zip(edge_idx_0, edge_idx_1):\n",
    "        for n in range(n_features): #for each feature\n",
    "    \n",
    "            try:\n",
    "                # search in intensities for a have a matching edge\n",
    "                feat = df.loc[(df[node_from] == nf) & (df[node_to] == nt), features[n]].iloc[0]\n",
    "\n",
    "                features_list[n].append(feat)\n",
    "\n",
    "            except IndexError:\n",
    "                features_list[n].append(indexerror)\n",
    "\n",
    "\n",
    "    for m in range(n_features):\n",
    "        edges[features[m]] = features_list[m]\n",
    "    \n",
    "    return edges"
   ]
  },
  {
   "cell_type": "markdown",
   "id": "08427368-bebb-450a-9de1-bdb84c1bcf22",
   "metadata": {},
   "source": [
    "# Perform validation analysis $V_1$ to get a baseline of the quality of expected counts\n",
    "\n",
    "This is a linear regression with the observed counts as the outcome and the expected counts as the predictor"
   ]
  },
  {
   "cell_type": "code",
   "execution_count": null,
   "id": "a4b22d85-a5d4-4d7c-837b-cc91961a79d5",
   "metadata": {},
   "outputs": [],
   "source": [
    "plot_result(x = traffic[\"exp\"], y = traffic[\"obs\"], x_label = \"Expected count\", y_label = \"Observed count\", save_fig = False, save_path = None)"
   ]
  },
  {
   "cell_type": "markdown",
   "id": "662bc25e-7446-43e1-aad5-6fca17fa68d6",
   "metadata": {},
   "source": [
    "We can see that the different spread and distribution of the two data sets results in a non-linear relationship. To alleviate this, we can square-root transform the counts. The $R^2$ of this result will be our baseline."
   ]
  },
  {
   "cell_type": "code",
   "execution_count": null,
   "id": "e5bde872-d7fa-4be3-b5be-aef9d46ec94c",
   "metadata": {},
   "outputs": [],
   "source": [
    "traffic[\"obssq\"] = traffic[\"obs\"]**(1/2)\n",
    "traffic[\"expsq\"] = traffic[\"exp\"]**(1/2)\n",
    "plot_result(x = traffic[\"expsq\"], y = traffic[\"obssq\"], x_label = \"$\\sqrt{Expected\\ count}$\", y_label = \"$\\sqrt{Observed\\ count}$\", save_fig = False)"
   ]
  },
  {
   "cell_type": "markdown",
   "id": "9a3cdba1-69a7-4991-8ab6-9239540702fe",
   "metadata": {},
   "source": [
    "# Compute and inspect the calibration factor $C$\n",
    "C is the ratio of the observed to the expected count. If c > 1, we have more observed counts than we expect. If c < 1, we have less observed counts than we expect."
   ]
  },
  {
   "cell_type": "code",
   "execution_count": null,
   "id": "44114282-a011-4034-ba4f-e087a8667806",
   "metadata": {},
   "outputs": [],
   "source": [
    "traffic[\"c\"] = traffic[\"obs\"]/traffic[\"exp\"] "
   ]
  },
  {
   "cell_type": "markdown",
   "id": "bd6741a1-2f6e-4206-b52c-ec9c93118d78",
   "metadata": {},
   "source": [
    "### Histograms"
   ]
  },
  {
   "cell_type": "code",
   "execution_count": null,
   "id": "138d0268-3a2d-4461-a29f-013773676e94",
   "metadata": {},
   "outputs": [],
   "source": [
    "fig, ax = plt.subplots(figsize = (6,4))\n",
    "plt.style.use(\"bmh\")\n",
    "# Plots #\n",
    "    # Plot histogram\n",
    "traffic[\"c\"].plot(kind = \"hist\", density = False, alpha = 0.8, bins = 100) # change density to true, because KDE uses density\n",
    "\n",
    "# X #\n",
    "ax.set_xlabel(\"$c$\")\n",
    "\n",
    "# Y #\n",
    "#ax.set_yticks([])\n",
    "    # Relabel the axis as \"Frequency\"\n",
    "ax.set_ylabel(\"Frequency\")\n",
    "\n",
    "# Overall #\n",
    "ax.set_title(\"Distribution of calibration factor C (ratio of observed to expected count)\")\n",
    "# Remove ticks and spines\n",
    "ax.tick_params(left = False, bottom = False)\n",
    "for ax, spine in ax.spines.items():\n",
    "    spine.set_visible(False)\n",
    "\n",
    "plt.grid(False)\n",
    "plt.rcParams['font.family'] = ['serif']\n",
    "#fig.savefig(\"figures/c_hist.pdf\", bbox_inches = \"tight\", pad_inches = 0, dpi=10, format = \"pdf\")\n",
    "plt.show()"
   ]
  },
  {
   "cell_type": "markdown",
   "id": "2eb5e680-a14d-41be-b950-668b9a0e082c",
   "metadata": {},
   "source": [
    "Right skewed with very long tail, which makes it hard to inspect values below 1. To get a clearer insight, we can perform a cube root transformation on c."
   ]
  },
  {
   "cell_type": "code",
   "execution_count": null,
   "id": "76177353-66d5-4969-8a51-cf2deac7f409",
   "metadata": {},
   "outputs": [],
   "source": [
    "traffic[\"c_cb\"] = traffic[\"c\"]**(1/3)\n",
    "\n",
    "fig, ax = plt.subplots(figsize = (6,4))\n",
    "plt.style.use(\"bmh\")\n",
    "# Plots #\n",
    "    # Plot histogram\n",
    "traffic[\"c_cb\"].plot(kind = \"hist\", density = False, alpha = 0.8, bins = 100) # change density to true, because KDE uses density\n",
    "\n",
    "# X #\n",
    "ax.set_xlabel(\"$\\sqrt[3]{c}$\")\n",
    "\n",
    "# Y #\n",
    "#ax.set_yticks([])\n",
    "    # Relabel the axis as \"Frequency\"\n",
    "ax.set_ylabel(\"Frequency\")\n",
    "\n",
    "# Overall #\n",
    "ax.set_title(\"Distribution of $\\sqrt[3]{.}$-transformed calibration factor C (ratio of observed to expected count)\")\n",
    "# Remove ticks and spines\n",
    "ax.tick_params(left = False, bottom = False)\n",
    "for ax, spine in ax.spines.items():\n",
    "    spine.set_visible(False)\n",
    "\n",
    "plt.grid(False)\n",
    "plt.rcParams['font.family'] = ['serif']\n",
    "#fig.savefig(\"figures/cuberoot_c_hist.pdf\", bbox_inches = \"tight\", pad_inches = 0, dpi=10, format = \"pdf\")\n",
    "plt.show()"
   ]
  },
  {
   "cell_type": "markdown",
   "id": "7f256e0d-8a70-449c-9f54-fa709bb30471",
   "metadata": {},
   "source": [
    "### Plot on road network"
   ]
  },
  {
   "cell_type": "code",
   "execution_count": null,
   "id": "962bc6fa-3e4a-479d-ad3d-14b5db342033",
   "metadata": {},
   "outputs": [],
   "source": [
    "from matplotlib.colors import ListedColormap\n",
    "def plot_examples(colormaps, lo = 1, hi = 100):\n",
    "    \"\"\"\n",
    "    Helper function to plot data with associated colormap.\n",
    "    \"\"\"\n",
    "    np.random.seed(19680801)\n",
    "    data = np.random.randint(low = lo, high = hi, size = (30,30))\n",
    "    n = len(colormaps)\n",
    "    fig, axs = plt.subplots(1, n, figsize=(n * 2 + 2, 3),\n",
    "                            constrained_layout=True, squeeze=False)\n",
    "    for [ax, cmap] in zip(axs.flat, colormaps):\n",
    "        psm = ax.pcolormesh(data, cmap=cmap, rasterized=True, vmin=lo, vmax=hi)\n",
    "        fig.colorbar(psm, ax=ax)\n",
    "    plt.show()\n",
    "#modify colormap "
   ]
  },
  {
   "cell_type": "markdown",
   "id": "222bade6-2268-47f8-841b-3e46095631db",
   "metadata": {},
   "source": [
    "For this plot, It is best if we add another square root transformation to the cube root transformed C. Generally, I would say that we should inspect C with more data before drawing conclusions from such a highly and somewhat arbitrarily transformed variable, but for the sake of the plot, it does not matter\n",
    "</br> When we have the transformed variable, we can bin it into 100 bins, meaning that the values will be put into equal sized bins from 1-100. This is useful to set the midpoint of the colorscale, which ranges from 0-1. This will also become useful later, when we want to plot c*, i.e., the ratio after calibration. We will put these bin values into the variable \"c_plot\""
   ]
  },
  {
   "cell_type": "code",
   "execution_count": null,
   "id": "efdc3690-09f5-4538-b335-8a48d96d5e2b",
   "metadata": {},
   "outputs": [],
   "source": [
    "traffic[\"c_sq\"] = traffic.c_cb**(1/2)\n",
    "\n",
    "c_binned = pd.cut(traffic.c_sq, 100, labels = False)\n",
    "\n",
    "#add to DF but add +1 to each value to keep 0 as lowest\n",
    "traffic[\"c_plot\"] = c_binned +1"
   ]
  },
  {
   "cell_type": "code",
   "execution_count": null,
   "id": "875fe65b-0000-40af-b6ef-a5d909cec766",
   "metadata": {},
   "outputs": [],
   "source": [
    "plt.scatter(traffic[\"c_plot\"], traffic[\"c_cb\"], s = 1) "
   ]
  },
  {
   "cell_type": "markdown",
   "id": "32ad3263-c134-4590-9bdd-a51a50a878a8",
   "metadata": {},
   "source": [
    "A c_plot value of 40 represents a calibration factor of 1, as can be seen in the plot above. This means that the colorscale should have 40 as the midpoint. "
   ]
  },
  {
   "cell_type": "code",
   "execution_count": null,
   "id": "29f1068f-9fad-43c7-95ec-76ba42983b80",
   "metadata": {},
   "outputs": [],
   "source": [
    "#create colorscales\n",
    "# Diverging color scale to see both below and above 1 values, set lowest value to grey colour\n",
    "# colormap for c\n",
    "seismic1 = cm.get_cmap('seismic', 101)\n",
    "\n",
    "# set the linspace from 0.175. This sets the midpoint (which shall represent a ratio of 1) around 40 (i.e. 0.4)\n",
    "seismic_colors1 = seismic1(np.linspace(0.175, 1, 101)) \n",
    "\n",
    "darkgrey = np.array([0.5, 0.5, 0.5, 0.15]) #the fourth value sets the transparency of the color. This is necessary, because the grey roads would otherwise cover up the colored roads\n",
    "seismic_colors1[:1 :] = darkgrey\n",
    "seismiccmp1 = ListedColormap(seismic_colors1)\n",
    "\n",
    "#create colorbar without grey starting value \n",
    "seismic_colorsng = seismic1(np.linspace(0.175, 1, 101))\n",
    "seismiccmp_cb = ListedColormap(seismic_colorsng)\n",
    "\n",
    "plot_examples([seismic1, seismiccmp1])"
   ]
  },
  {
   "cell_type": "markdown",
   "id": "65190ced-e53d-4a58-898a-444390a84bb7",
   "metadata": {},
   "source": [
    "Now, we add c and c_plot to edges2, and plot the calibration factor on the Dutch road network afterwards."
   ]
  },
  {
   "cell_type": "code",
   "execution_count": null,
   "id": "a039a0b1-8d14-4c94-86b5-f3a6fd02c6ae",
   "metadata": {},
   "outputs": [],
   "source": [
    "edges2 = add_features_to_edge(traffic, edges2, features = [\"c\", \"c_plot\"], indexerror = 0)"
   ]
  },
  {
   "cell_type": "code",
   "execution_count": null,
   "id": "4f4136e3-b8bd-4c91-b900-9164321d8a2d",
   "metadata": {},
   "outputs": [],
   "source": [
    "graph = ox.graph_from_gdfs(nodes, edges2)\n",
    "ec = ox.plot.get_edge_colors_by_attr(graph, attr=\"c_plot\", cmap= seismiccmp1)\n",
    "\n",
    "fig, ax = ox.plot_graph(graph, node_color=\"w\", node_edgecolor=\"k\", node_size=0, edge_color=ec, edge_linewidth=2, show = False) \n",
    "\n",
    "# add colorbar\n",
    "sm = mpl.cm.ScalarMappable(cmap = seismiccmp_cb)\n",
    "sm.set_array([])\n",
    "cb = fig.colorbar(cm.ScalarMappable(cmap = seismiccmp_cb), ax = ax, location = 'right', shrink = 0.8, ticks = [traffic[\"c_plot\"].min()*0.01, 40*0.01, traffic[\"c_plot\"].max()*0.01])\n",
    "cb.ax.set_yticklabels(['0', '1', '70'])\n",
    "cb.ax.set_ylabel('C', rotation = 0)\n",
    "\n",
    "\n",
    "#fig.savefig(\"playgorund/c_map.pdf\", format = \"pdf\", bbox_inches = \"tight\", pad_inches = 0, dpi = 1000) #bbox_inches and pad_inches ensure that there is no white frame around the plot\n",
    "plt.show()"
   ]
  },
  {
   "cell_type": "markdown",
   "id": "41cdf2cc-4de3-4978-9a04-37a4d8bacfa1",
   "metadata": {},
   "source": [
    "# Modeling C"
   ]
  },
  {
   "cell_type": "markdown",
   "id": "12add266-f033-43cf-80ab-22df4174546f",
   "metadata": {},
   "source": [
    "# Get road segment characteristics\n",
    "Road segment characteristics are stored in edges (or edges2, respectively), but to use them for modeling we need to to some data management."
   ]
  },
  {
   "cell_type": "code",
   "execution_count": null,
   "id": "6e211b5b-1bd4-48fb-80e8-14f959129a5d",
   "metadata": {},
   "outputs": [],
   "source": [
    "#set highway as category to create dummies \n",
    "edges2[\"highway_old\"] = edges2[\"highway\"].astype(str).astype(\"category\")\n",
    "#There are some instances where the highway is a list of different highway types. We will call these \"mixed_highwaytypes\"\n",
    "main_highwaytypes = ['primary', 'trunk', 'primary_link',\n",
    "       'motorway', 'motorway_link', 'trunk_link']\n",
    "edges2[\"highway\"] = np.where(~edges2[\"highway_old\"].isin(main_highwaytypes), \"mixed_highwaytypes\", edges2[\"highway_old\"])\n",
    "\n",
    "\n",
    "edges2[\"is_bridge\"] = np.where(edges2[\"bridge\"].isna(), 0, 1)\n",
    "\n",
    "# in some instances, maxspeed column also contains lists with multiple maxspeeds and strings\n",
    "# we will take the highest value in these instances, and store the new variable as maxmaxspeed\n",
    "out = edges2.maxspeed.explode().groupby(level = 0).max() \n",
    "edges2[\"maxmaxspeed\"] = out\n",
    "edges2[\"maxmaxspeed\"] = edges2[\"maxmaxspeed\"].astype(float)\n",
    "\n",
    "# in some instances, lanes column also contains lists with multiple lanes and strings\n",
    "# we will take the highest value in these instances, and store the new variable as maxlanes\n",
    "edges2[\"lanes_chr\"] = edges2.lanes.astype(str)\n",
    "out = edges2.lanes.explode().groupby(level = 0).max() \n",
    "edges2[\"maxlanes\"] = out\n",
    "edges2[\"maxlanes\"] = edges2[\"maxlanes\"].astype(float)"
   ]
  },
  {
   "cell_type": "markdown",
   "id": "e6c6fd8c-af4d-45f7-bfd6-a6f6bf9cb040",
   "metadata": {},
   "source": [
    "## Get regional characteristics"
   ]
  },
  {
   "cell_type": "markdown",
   "id": "b10e584e-12b3-44e3-9bf1-68e49756cadc",
   "metadata": {},
   "source": [
    "#### Population density (municipality level)\n",
    "First we need the shapefile with all the municipalities, then we need the population density in 2019 from opendata.cbs.nl. Finally, we can turn traffic dataframe into a geodataframe and use the geopandas function sjoin to find out which sensor is located in which municipality. The population density can be found here: https://opendata.cbs.nl/statline/#/CBS/nl/dataset/70072ned/table?dl=5A35F. I put the data into a csv that has the municipality on one column and the population density in another column. I also included the total population of each municipality in that csv, but this can be discarded. "
   ]
  },
  {
   "cell_type": "code",
   "execution_count": null,
   "id": "e6f23dcd-2c5b-4780-9929-5027797387e4",
   "metadata": {},
   "outputs": [],
   "source": [
    "nlmap_mun = gpd.read_file(\"Data/CBS/Shapefiles/Municipality/bu_2019.shp\")\n",
    "nlmap_mun = nlmap_mun.to_crs(\"EPSG:4326\") #change CRS to fit the longitude/latitude of sensor data"
   ]
  },
  {
   "cell_type": "code",
   "execution_count": null,
   "id": "283640c5-7075-444c-a2ed-c7b5e38c110f",
   "metadata": {},
   "outputs": [],
   "source": [
    "popdens = pd.read_csv(\"Data/CBS/Statline/Regionale_kerncijfers_Nederland_03022022_140149.csv\", sep = \";\")\n",
    "popdens = popdens.rename(columns = {\"Regio's\": \"GM_NAAM\", \"Bevolking/Bevolkingssamenstelling op 1 januari/Totale bevolking (aantal)\": \"total_pop_municipality\", \"Bevolking/Bevolkingssamenstelling op 1 januari/Bevolkingsdichtheid (aantal inwoners per km²)\": \"popdens\", \"Milieu en bodemgebruik/Bodemgebruik/Oppervlakte/Land (km²)\": \"area\"})"
   ]
  },
  {
   "cell_type": "code",
   "execution_count": null,
   "id": "aae95ddb-6be1-4bbc-bbf1-0c06829513aa",
   "metadata": {
    "tags": []
   },
   "outputs": [],
   "source": [
    "nlmap_mundens = popdens.merge(nlmap_mun, on = \"GM_NAAM\", how = \"outer\")\n",
    "nlmap_mundens = nlmap_mundens[[\"GM_NAAM\", \"geometry\", \"popdens\"]] #remove unncessesary columns"
   ]
  },
  {
   "cell_type": "code",
   "execution_count": null,
   "id": "2bb18393-0931-40f7-ab31-8876294b33e0",
   "metadata": {},
   "outputs": [],
   "source": [
    "nlmap_mundens_gdf = gpd.GeoDataFrame(\n",
    "    nlmap_mundens, geometry=\"geometry\")"
   ]
  },
  {
   "cell_type": "markdown",
   "id": "c840273a-845b-422d-aad6-d3c3124c7378",
   "metadata": {},
   "source": [
    "Link municipality to sensor: Map sensor to popdens using long/lat and polygon"
   ]
  },
  {
   "cell_type": "code",
   "execution_count": null,
   "id": "63f15233-d9fd-4101-916d-6b962ea2c2d8",
   "metadata": {},
   "outputs": [],
   "source": [
    "traffic[[\"longitude\", \"latitude\"]] = traffic[\"coordinates\"].str.split(\",\", expand = True)\n",
    "traffic[\"longitude\"] = traffic[\"longitude\"].str[1:]\n",
    "traffic[\"latitude\"] = traffic[\"latitude\"].str.rstrip(\"]\")"
   ]
  },
  {
   "cell_type": "code",
   "execution_count": null,
   "id": "c7c746ea-093f-4ff1-87e0-4e405d03813e",
   "metadata": {},
   "outputs": [],
   "source": [
    "traffic_gdf = gpd.GeoDataFrame(\n",
    "    traffic, geometry=gpd.points_from_xy(traffic.longitude, traffic.latitude))\n",
    "\n",
    "traffic_gdf.crs = \"EPSG:4326\""
   ]
  },
  {
   "cell_type": "code",
   "execution_count": null,
   "id": "16448e45-d220-4818-85ee-ebed4091cb87",
   "metadata": {},
   "outputs": [],
   "source": [
    "traffic2 = nlmap_mundens_gdf.sjoin(traffic_gdf, how = \"right\", predicate = \"contains\")\n",
    "traffic2 = traffic2.drop(columns = [\"index_left\"])"
   ]
  },
  {
   "cell_type": "code",
   "execution_count": null,
   "id": "50313b86-96ee-4534-9b53-88426b2c65fa",
   "metadata": {},
   "outputs": [],
   "source": [
    "# add to edges2\n",
    "edges2 = add_features_to_edge(traffic2, edges2, features = [\"popdens\"], indexerror = np.nan)"
   ]
  },
  {
   "cell_type": "markdown",
   "id": "c1295195-83ec-46e5-b06b-2dd86496d0d4",
   "metadata": {},
   "source": [
    "# Delete these chunks after final run"
   ]
  },
  {
   "cell_type": "code",
   "execution_count": null,
   "id": "6d43d98a-12f6-4888-b2d3-9cafad091026",
   "metadata": {},
   "outputs": [],
   "source": [
    "# add to edges2\n",
    "#edges3 = edges2.set_index('u')\n",
    "#edges3 = edges3.set_index('v', append=True)\n",
    "#edges3 = add_features_to_edge(traffic2, edges3, features = [\"popdens\"], indexerror = np.nan)"
   ]
  },
  {
   "cell_type": "code",
   "execution_count": null,
   "id": "4fff1037-b96f-4908-8956-49b89573caf2",
   "metadata": {},
   "outputs": [],
   "source": [
    "# add to edges2\n",
    "#edges_model2 = edges_model.set_index('u')\n",
    "#edges_model2 = edges_model2.set_index('v', append=True)\n",
    "#edges_model2 = add_features_to_edge(traffic2, edges_model2, features = [\"popdens\"], indexerror = np.nan)"
   ]
  },
  {
   "cell_type": "code",
   "execution_count": null,
   "id": "c274597b-b608-4a92-b3fa-3ede2b7b185d",
   "metadata": {},
   "outputs": [],
   "source": [
    "#edges_model = edges_model2"
   ]
  },
  {
   "cell_type": "code",
   "execution_count": null,
   "id": "7a69f4fb-4605-4169-9488-08073cd245f7",
   "metadata": {},
   "outputs": [],
   "source": [
    "#edges2_old = edges2\n",
    "#edges2 = pd.DataFrame(edges3.reset_index())"
   ]
  },
  {
   "cell_type": "markdown",
   "id": "2db6587f-5582-4981-87c4-79845a15f354",
   "metadata": {},
   "source": [
    "#### Nearness to border\n",
    "To get the points where Dutch roads cross the border, I use a shapefile that Marko Roos provided me with for a side project. I then check for each road segment if it is intersecting a 12km perimeter around those border points, to create the dummy variable \"close_to_border\""
   ]
  },
  {
   "cell_type": "code",
   "execution_count": null,
   "id": "fd633dbd-98d3-410d-9a33-634f5065581e",
   "metadata": {},
   "outputs": [],
   "source": [
    "bcsnap = gpd.read_file(\"/data2/dacimob/Voor_Inan/BorderCrossingsNumber_with_BC_SnapToPRRoad_location.shp\")"
   ]
  },
  {
   "cell_type": "code",
   "execution_count": null,
   "id": "ad1d62b2-a07f-46b8-9762-d92946b076e5",
   "metadata": {},
   "outputs": [],
   "source": [
    "#set CRS of gdf to EPSG:28992 which is optimal for finding intersections because it is in meters\n",
    "bcsnap.crs = \"EPSG:4326\"\n",
    "bcsnap = bcsnap.to_crs(\"EPSG:28992\") "
   ]
  },
  {
   "cell_type": "code",
   "execution_count": null,
   "id": "e5951ae1-0945-4a9f-ab58-82b65427a027",
   "metadata": {},
   "outputs": [],
   "source": [
    "edges2 = pd.DataFrame(edges2.reset_index()) #necessary to turn u and v into dataframe columns that we can easily access\n",
    "edges2[\"uv\"] = list(zip(edges2.u, edges2.v)) #create u-v combination variable to have an ID of each road segment\n",
    "edges2_gdf = gpd.GeoDataFrame(edges2, geometry = edges2.geometry)"
   ]
  },
  {
   "cell_type": "code",
   "execution_count": null,
   "id": "29959b4d-c66e-4808-9161-04d59e5531bf",
   "metadata": {},
   "outputs": [],
   "source": [
    "#create 12 km perimeter around each border crossing point\n",
    "bcsnap_buffered = bcsnap.buffer(12000)\n",
    "\n",
    "un = bcsnap_buffered.unary_union #create one geometry that is the unary union of all buffer zones\n",
    "intersectants = edges2_gdf[\"geometry\"].intersection(un) #find all intersecting roads to buffer zone\n",
    "intersecting_roads = edges2_gdf[~intersectants.is_empty] #if road is not intersecting, it will be empty, therefore remove empty ones"
   ]
  },
  {
   "cell_type": "code",
   "execution_count": null,
   "id": "b98f7847-2207-41b8-b5e3-288aa1a058f5",
   "metadata": {},
   "outputs": [],
   "source": [
    "#create dummy variable for roads that are within the buffer zone\n",
    "edges2[\"close_to_border\"] = np.where(edges2[\"uv\"].isin(intersecting_roads[\"uv\"]), 1, 0)"
   ]
  },
  {
   "cell_type": "markdown",
   "id": "057037e0-9af3-451e-bda4-73ee6bd6809c",
   "metadata": {},
   "source": [
    "## Get road network characteristics\n",
    "Get the most common type, the total length, the total number, the highest speed limit, the lowest speed limit, the highest number of lanes and the lowest number of lanes of all edges that are within a set perimeter around each edge. I wrote a function for this:"
   ]
  },
  {
   "cell_type": "code",
   "execution_count": null,
   "id": "9819709c-06a9-4558-8c5d-c3d374bca870",
   "metadata": {},
   "outputs": [],
   "source": [
    "# function to get buffer area features\n",
    "# takes two geodataframes with same crs as arguments. \n",
    "# edges1 is the gdf of which the edges should be buffered, edges2 is the gdf of which the intersections should be extracted. edges1 and edges2 can be the same object\n",
    "# If you want to add the derived features to another dataframe, you can optionally define edges3 as that other dataframe\n",
    "# buffer_m is the distance of the buffering in meters\n",
    "# edges1 can also be an object with edges that were already buffered, in this case, set unbuffered = False and provide edges3\n",
    "# returns edges1 as df with additional columns for the buffer area features\n",
    "def get_buffer_features(edges1, edges2, edges3 = None, buffer_m = 1000, unbuffered = True):\n",
    "    \n",
    "\n",
    "    #empty lists to store the features\n",
    "    types = []\n",
    "    total_length = []\n",
    "    nr_edges = []\n",
    "    max_speed = []\n",
    "    min_speed = []\n",
    "    max_lanes = []\n",
    "    min_lanes = []\n",
    "    \n",
    "    # buffer edges if edges1 is not already buffered\n",
    "    if unbuffered == True:\n",
    "\n",
    "        #buffer edges, meaning \"expand\" the boundaries of the geometric shape in all directions by buffer_m meters\n",
    "        buffered_edges = edges1.buffer(buffer_m)\n",
    "    else: \n",
    "        buffered_edges = edges1\n",
    "\n",
    "    #loop over buffered edges\n",
    "    for i in range(0, len(buffered_edges)):\n",
    "        row = buffered_edges[i:(i+1)].unary_union #extract first buffered edge\n",
    "        intersectants = edges2[\"geometry\"].intersection(row) #find all intersecting edges to buffer zone\n",
    "        intersecting_edges = edges2[~intersectants.is_empty] #if edge is not intersecting, it will be empty, therefore remove empty ones\n",
    "\n",
    "        #most common road type of buffer zone\n",
    "        Type = intersecting_edges[\"highway\"].value_counts().idxmax()\n",
    "        types.append(Type)\n",
    "\n",
    "        #total edge length of buffer zone\n",
    "        Length = intersecting_edges[\"length\"].sum()\n",
    "        total_length.append(Length)\n",
    "\n",
    "        #number of edges in area\n",
    "        Nr = len(intersecting_edges)\n",
    "        nr_edges.append(Nr)\n",
    "\n",
    "        #maxspeed\n",
    "        maspeed = intersecting_edges.maxmaxspeed.max()\n",
    "        max_speed.append(maspeed)\n",
    "\n",
    "        #minspeed\n",
    "        mispeed = intersecting_edges.maxmaxspeed.min()\n",
    "        min_speed.append(mispeed)\n",
    "\n",
    "        #maxlanes\n",
    "        malane = intersecting_edges.maxlanes.max()\n",
    "        max_lanes.append(malane)\n",
    "\n",
    "        #minlanes\n",
    "        milane = intersecting_edges.maxlanes.min()\n",
    "        min_lanes.append(milane)\n",
    "\n",
    "\n",
    "    #add column to edges, buffer_str is buffer_m as character string\n",
    "    buffer_str = str(buffer_m)\n",
    "    type_column = \"commontype\" + buffer_str + \"m_bufferzone\"\n",
    "    length_column = \"total_length\" + buffer_str + \"m_bufferzone\"\n",
    "    nr_edges_column = \"nr_edges\" + buffer_str + \"m_bufferzone\"\n",
    "    maxspeed_column = \"maxspeed\" + buffer_str + \"m_bufferzone\"\n",
    "    minspeed_column = \"minspeed\" + buffer_str + \"m_bufferzone\"\n",
    "    maxlanes_collumn = \"maxlanes\" + buffer_str + \"m_bufferzone\"\n",
    "    minlanes_column = \"minlanes\" + buffer_str + \"m_bufferzone\"\n",
    "\n",
    "    if edges3 is None: #if edges3 is not defined, add derived features to edges1\n",
    "        edges3 = edges1\n",
    "    \n",
    "    return_edges = edges3\n",
    "    \n",
    "\n",
    "    return_edges[type_column] = types\n",
    "    return_edges[length_column] = total_length\n",
    "    return_edges[nr_edges_column] = nr_edges\n",
    "    return_edges[maxspeed_column] = max_speed\n",
    "    return_edges[minspeed_column] = min_speed\n",
    "    return_edges[maxlanes_collumn] = max_lanes\n",
    "    return_edges[minlanes_column] = min_lanes\n",
    "    \n",
    "    return return_edges\n",
    "    "
   ]
  },
  {
   "cell_type": "markdown",
   "id": "f7784d09-d1a4-4ae3-aafa-6472cfcbe80c",
   "metadata": {},
   "source": [
    "Because there are 68000 edges on the Dutch road network, this is a slow process. To speed it up, we can use multiprocessing. We will also only get these values for roads that also have observed counts, to speed things up. However, later this needs to be applied to the entire set of edges, because we will need these road network characteristics to calibrate all expected counts. "
   ]
  },
  {
   "cell_type": "code",
   "execution_count": null,
   "id": "4571bab6-1402-4f47-98f7-e3b766089f88",
   "metadata": {},
   "outputs": [],
   "source": [
    "edges_network = edges2.loc[~(edges2.c == 0)]"
   ]
  },
  {
   "cell_type": "code",
   "execution_count": null,
   "id": "42570580-39a8-46b5-8787-27c5dd6852da",
   "metadata": {},
   "outputs": [],
   "source": [
    "# create geodataframes\n",
    "edges_network_gdf = gpd.GeoDataFrame(\n",
    "    edges_network, geometry=edges_network.geometry)\n",
    "\n",
    "edges2_gdf = gpd.GeoDataFrame(\n",
    "    edges2, geometry=edges2.geometry)"
   ]
  },
  {
   "cell_type": "code",
   "execution_count": null,
   "id": "efccf12d-30bb-4f24-9582-de174606b50d",
   "metadata": {},
   "outputs": [],
   "source": [
    "#wrapper function for get_buffer_features using multiprocessing\n",
    "def get_buffer_features_pool1500(edges1_pool):\n",
    "    \n",
    "    buffered_with_features = get_buffer_features(edges1 = edges1_pool, edges2 = edges2_gdf, buffer_m = 1500, unbuffered = True)\n",
    "    \n",
    "    return buffered_with_features\n",
    "\n",
    "def get_buffer_features_pool12000(edges1_pool):\n",
    "    \n",
    "    buffered_with_features = get_buffer_features(edges1 = edges1_pool, edges2 = edges2_gdf, buffer_m = 12000, unbuffered = True)\n",
    "    \n",
    "    return buffered_with_features"
   ]
  },
  {
   "cell_type": "code",
   "execution_count": null,
   "id": "c8573e0e-a9b6-4d87-9677-096668018b5b",
   "metadata": {},
   "outputs": [],
   "source": [
    "#proceed with full dataset\n",
    "NUM_CORES = mp.cpu_count() #the number of processing cores in zweistein\n",
    "dat_chunks = np.array_split(edges_network_gdf, NUM_CORES)\n",
    "\n",
    "with mp.Pool(NUM_CORES) as pool:\n",
    "    \n",
    "     edges_network12000 = pd.concat(pool.map(get_buffer_features_pool12000, dat_chunks), ignore_index = True)\n",
    "        \n",
    "with mp.Pool(NUM_CORES) as pool:\n",
    "    \n",
    "     edges_network1500 = pd.concat(pool.map(get_buffer_features_pool1500, dat_chunks), ignore_index = True)"
   ]
  },
  {
   "cell_type": "code",
   "execution_count": null,
   "id": "5d45438d-aa34-4d7b-a8b8-fd7ffdd07069",
   "metadata": {},
   "outputs": [],
   "source": [
    "# remove most columns that are not unique, because .merge() can only take a few key variables\n",
    "edges_network1500_thin = edges_network1500[['obs', 'uv', 'commontype1500m_bufferzone',\n",
    "       'total_length1500m_bufferzone', 'nr_edges1500m_bufferzone',\n",
    "       'maxspeed1500m_bufferzone', 'minspeed1500m_bufferzone',\n",
    "       'maxlanes1500m_bufferzone', 'minlanes1500m_bufferzone']]\n",
    "\n",
    "edges_model = edges_network12000.merge(edges_network1500_thin, on = [\"uv\", \"obs\"], how = \"inner\")\n",
    "edges_model.to_csv(\"edges_network_full.csv\", index = False)"
   ]
  },
  {
   "cell_type": "code",
   "execution_count": null,
   "id": "ff980f9c-9ae9-4d7f-ada9-82c0c16b53dc",
   "metadata": {},
   "outputs": [],
   "source": [
    "edges_model.columns"
   ]
  },
  {
   "cell_type": "code",
   "execution_count": null,
   "id": "7e940d85-5002-4987-857b-0aeca028a033",
   "metadata": {
    "tags": []
   },
   "outputs": [],
   "source": [
    "edges_model"
   ]
  },
  {
   "cell_type": "markdown",
   "id": "b9ae3886-715d-45d0-813d-382aa2ef00f3",
   "metadata": {},
   "source": [
    "## Add province to edges"
   ]
  },
  {
   "cell_type": "code",
   "execution_count": null,
   "id": "511bd705-4360-4e39-9735-2e6034a7280c",
   "metadata": {},
   "outputs": [],
   "source": [
    "edges_model = add_features_to_edge(traffic2, edges_model, features = [\"PV_NAAM\"], indexerror = np.nan)"
   ]
  },
  {
   "cell_type": "markdown",
   "id": "09a9ad60-e08f-488c-8217-87c5648db126",
   "metadata": {},
   "source": [
    "# Model C"
   ]
  },
  {
   "cell_type": "markdown",
   "id": "01fa4ffb-2e53-4bc1-b5a3-7bc68c2d545c",
   "metadata": {},
   "source": [
    "Because of the skewed distribution of C, we will use the cube root transformed C for modeling (this is not necessary in the case of random forest, but for comparison, it is best to have the same outcome in both models). The expected counts have an inverse squared relationship with C (and $\\sqrt[3]{C}$). We will therefore include exp$^{-1}$ in the linear regression model. "
   ]
  },
  {
   "cell_type": "code",
   "execution_count": null,
   "id": "1a9c2827-9d1d-4378-9f9f-306a1b508073",
   "metadata": {},
   "outputs": [],
   "source": [
    "edges_model[\"c_cb\"] = edges_model[\"c\"]**(1/3)\n",
    "plt.scatter(edges_model[\"exp\"], edges_model[\"c_cb\"])\n",
    "plt.title(\"Relationship between exp and $\\sqrt[3]{c}$\")"
   ]
  },
  {
   "cell_type": "markdown",
   "id": "9dad280b-ec09-4a57-8bbd-6cc529e8b3dc",
   "metadata": {},
   "source": [
    "## Split data into a train and test set\n",
    "We use 60% of the data for training and 40% for testing"
   ]
  },
  {
   "cell_type": "code",
   "execution_count": null,
   "id": "bda25060-000a-4e35-b743-c5188e0c218f",
   "metadata": {},
   "outputs": [],
   "source": [
    "edges_model = pd.DataFrame(edges_model.reset_index())"
   ]
  },
  {
   "cell_type": "code",
   "execution_count": null,
   "id": "7e3764ca-920c-49ac-be7b-9b7754af87ce",
   "metadata": {},
   "outputs": [],
   "source": [
    "#segment characteristics\n",
    "modeldat = pd.get_dummies(edges_model['highway'])\n",
    "modeldat[\"maxmaxspeed\"] = edges_model[\"maxmaxspeed\"]\n",
    "modeldat[\"c_cb\"] = edges_model[\"c_cb\"]\n",
    "modeldat[\"maxlanes\"] = edges_model[\"maxlanes\"]\n",
    "modeldat[\"is_bridge\"] = edges_model[\"is_bridge\"]\n",
    "\n",
    "#regional characteristics\n",
    "modeldat[\"popdens\"] = edges_model[\"popdens\"]\n",
    "modeldat[\"close_to_border\"] = edges_model[\"close_to_border\"]\n",
    "\n",
    "#road network characteristics\n",
    "modeldat[\"total_length12000m_bufferzone\"] = edges_model[\"total_length12000m_bufferzone\"]\n",
    "modeldat[\"nr_edges12000m_bufferzone\"] = edges_model[\"nr_edges12000m_bufferzone\"]\n",
    "modeldat[\"maxspeed12000m_bufferzone\"] = edges_model[\"maxspeed12000m_bufferzone\"]\n",
    "modeldat[\"minspeed12000m_bufferzone\"] = edges_model[\"minspeed12000m_bufferzone\"]\n",
    "modeldat[\"maxlanes1500m_bufferzone\"] = edges_model[\"maxlanes1500m_bufferzone\"]\n",
    "modeldat[\"maxlanes12000m_bufferzone\"] = edges_model[\"maxlanes12000m_bufferzone\"]\n",
    "modeldat[\"minlanes12000m_bufferzone\"] = edges_model[\"minlanes12000m_bufferzone\"]\n",
    "\n",
    "#province\n",
    "regional_dummies = pd.get_dummies(edges_model['PV_NAAM'])\n",
    "modeldat = pd.concat([modeldat, regional_dummies], axis = 1)\n",
    "\n",
    "#interaction variables\n",
    "modeldat[\"popdens_motorway\"] = modeldat[\"motorway\"] * modeldat[\"popdens\"]\n",
    "modeldat[\"maxlanes_maxlanes1500\"] = modeldat[\"maxlanes1500m_bufferzone\"] * modeldat[\"maxlanes\"]\n",
    "\n",
    "modeldat[\"popdens_Zuid-Holland\"] = modeldat[\"Zuid-Holland\"] * modeldat[\"popdens\"]\n",
    "modeldat[\"popdens_Noord-Holland\"] = modeldat[\"Noord-Holland\"] * modeldat[\"popdens\"]\n",
    "modeldat[\"popdens_Utrecht\"] = modeldat[\"Utrecht\"] * modeldat[\"popdens\"]\n",
    "\n",
    "modeldat[\"maxlanes12000_Zuid-Holland\"] = modeldat[\"Zuid-Holland\"] * modeldat[\"maxlanes12000m_bufferzone\"]\n",
    "modeldat[\"maxlanes12000_Noord-Holland\"] = modeldat[\"Noord-Holland\"] * modeldat[\"maxlanes12000m_bufferzone\"]\n",
    "modeldat[\"maxlanes12000_Utrecht\"] = modeldat[\"Utrecht\"] * modeldat[\"maxlanes12000m_bufferzone\"]\n",
    "modeldat[\"maxlanes12000_Noord-Brabant\"] = modeldat[\"Noord-Brabant\"] * modeldat[\"maxlanes12000m_bufferzone\"]\n",
    "\n",
    "#expected and observed cars\n",
    "modeldat[\"exp_car\"] = edges_model[\"exp\"]\n",
    "modeldat[\"obs_car\"] = edges_model[\"obs\"]\n",
    "modeldat[\"exp_car_isq\"] = 1 / modeldat[\"exp_car\"] #this is necessary for linear regression, will be shown in the next couple of chunks\n",
    "\n",
    "#add uv to later merge again with edges_network_full\n",
    "modeldat[\"uv\"] = edges_model[\"uv\"]\n",
    "modeldat = modeldat.dropna()\n",
    "\n",
    "y = modeldat[\"c_cb\"]\n",
    "X = modeldat\n",
    "X = sm.add_constant(X, has_constant = 'add') # adding a constant for linear regression\n",
    "\n",
    "#split into train and test data\n",
    "X_train, X_test, y_train, y_test = train_test_split(X, y, train_size = 0.6, random_state = 120)\n",
    "\n",
    "#save copy of testdata to keep car counts and then remove those variables from X_test \n",
    "testdata = X_test"
   ]
  },
  {
   "cell_type": "code",
   "execution_count": null,
   "id": "8cbd2701-2da4-4fe5-91d2-9daca4483cb1",
   "metadata": {},
   "outputs": [],
   "source": [
    "#### Wrapper function to run the linear regression and checks results with diffrent input\n",
    "#takes the predictors Xtrain and the outcome ytrain to model the linear regression\n",
    "#drop is a list of columns that shall be excluded from the predictors\n",
    "#predicts y_hat using predictors Xtest (from a test set) and computes root mean squared error using ytrain\n",
    "#optionally, you can perform a weighted linear regression by adding a vector of weights in W (by default, this is a vector of 1's, which is equivalent to unweighted regression)\n",
    "#returns a list with results in the following order: model, rmse of test set, predicted y of test set, rmse of train set, predicted y of train set. \n",
    "def my_wls(Xtrain = X_train, Xtest = X_test, ytrain = y_train, ytest = y_test, drop = [], W = [1]* len(X_train)):\n",
    "    Xtrain1 = Xtrain.drop(columns = drop)\n",
    "    Xtest1 = Xtest.drop(columns = drop)\n",
    "    wlsmodel = sm.WLS(ytrain.astype(float), Xtrain1.astype(float), weights = W).fit()\n",
    "\n",
    "    print_model = wlsmodel.summary()\n",
    "\n",
    "    #rmse test\n",
    "    yhat_test = wlsmodel.predict(Xtest1)\n",
    "    rmsewls_test = rmse(yhat_test, ytest)\n",
    "    \n",
    "    #rmse train\n",
    "    yhat_train = wlsmodel.predict(Xtrain1)\n",
    "    rmsewls_train = rmse(yhat_train, ytrain)\n",
    "    \n",
    "    return([wlsmodel, rmsewls_test, yhat_test, rmsewls_train, yhat_train])"
   ]
  },
  {
   "cell_type": "code",
   "execution_count": null,
   "id": "70bca430-d2e2-4c87-a688-3ec05ed1d9db",
   "metadata": {},
   "outputs": [],
   "source": [
    "drop_columns = ['mixed_highwaytypes', 'motorway', 'motorway_link', 'primary',\n",
    "       'primary_link', 'trunk', 'trunk_link', \"c_cb\", 'maxlanes',\n",
    "       'popdens', 'close_to_border', 'nr_edges12000m_bufferzone',\n",
    "       'maxspeed12000m_bufferzone', 'minspeed12000m_bufferzone',\n",
    "       'maxlanes1500m_bufferzone', 'maxlanes12000m_bufferzone', 'Drenthe',\n",
    "       'Flevoland', 'Friesland', 'Gelderland', 'Groningen', 'Limburg',\n",
    "       'Noord-Brabant', 'Noord-Holland', 'Overijssel', 'Utrecht', 'Zeeland',\n",
    "       'Zuid-Holland', 'popdens_motorway', 'maxlanes_maxlanes1500',\n",
    "       'popdens_Zuid-Holland', 'popdens_Noord-Holland', 'popdens_Utrecht',\n",
    "       'maxlanes12000_Zuid-Holland', 'maxlanes12000_Noord-Holland',\n",
    "       'maxlanes12000_Utrecht', 'maxlanes12000_Noord-Brabant', \n",
    "       'obs_car', 'is_bridge', 'maxmaxspeed', 'total_length12000m_bufferzone', 'minlanes12000m_bufferzone', 'uv']\n",
    "wls0 = my_wls(X_train, X_test, y_train, y_test, drop = drop_columns)\n",
    "print(\"RMSE on test set = \", wls0[1])\n",
    "print(\"RMSE on train set = \", wls0[3])"
   ]
  },
  {
   "cell_type": "code",
   "execution_count": null,
   "id": "9dd926fb-ee20-445a-aee7-99b586fc877f",
   "metadata": {},
   "outputs": [],
   "source": [
    "print(wls0[0].summary())"
   ]
  },
  {
   "cell_type": "code",
   "execution_count": null,
   "id": "db4494e1-f98b-4aff-80ef-a8881e3ca04f",
   "metadata": {},
   "outputs": [],
   "source": [
    "result_scatter(wls0[2])"
   ]
  },
  {
   "cell_type": "markdown",
   "id": "1b2cb78e-2e8e-4e93-931b-c09e7097eb2d",
   "metadata": {},
   "source": [
    "#### add highway type"
   ]
  },
  {
   "cell_type": "code",
   "execution_count": null,
   "id": "b39d6198-a91a-4d8e-9b28-ed6d2155ce18",
   "metadata": {
    "tags": []
   },
   "outputs": [],
   "source": [
    "drop_columns = [\"primary\", \"c_cb\", 'maxlanes',\n",
    "       'popdens', 'close_to_border', 'nr_edges12000m_bufferzone',\n",
    "       'maxspeed12000m_bufferzone', 'minspeed12000m_bufferzone',\n",
    "       'maxlanes1500m_bufferzone', 'maxlanes12000m_bufferzone', 'Drenthe',\n",
    "       'Flevoland', 'Friesland', 'Gelderland', 'Groningen', 'Limburg',\n",
    "       'Noord-Brabant', 'Noord-Holland', 'Overijssel', 'Utrecht', 'Zeeland',\n",
    "       'Zuid-Holland', 'popdens_motorway', 'maxlanes_maxlanes1500',\n",
    "       'popdens_Zuid-Holland', 'popdens_Noord-Holland', 'popdens_Utrecht',\n",
    "       'maxlanes12000_Zuid-Holland', 'maxlanes12000_Noord-Holland',\n",
    "       'maxlanes12000_Utrecht', 'maxlanes12000_Noord-Brabant','minlanes12000m_bufferzone',\n",
    "       'obs_car', 'is_bridge', 'maxmaxspeed', 'total_length12000m_bufferzone', 'uv']\n",
    "wls1 = my_wls(X_train, X_test, y_train, y_test, drop = drop_columns, W = W)\n",
    "print(\"RMSE on test set = \", wls1[1])\n",
    "print(\"RMSE on train set = \", wls1[3])"
   ]
  },
  {
   "cell_type": "code",
   "execution_count": null,
   "id": "3d46db2d-d32e-461b-be15-46ce8f3cd865",
   "metadata": {},
   "outputs": [],
   "source": [
    "result_scatter(wls1[2])"
   ]
  },
  {
   "cell_type": "markdown",
   "id": "4e8cbdea-210b-453a-bd3d-38e3650b5d13",
   "metadata": {},
   "source": [
    "#### model adding maxlanes\n"
   ]
  },
  {
   "cell_type": "code",
   "execution_count": null,
   "id": "71b3a1fd-5cf9-42c7-a37a-40528850b76c",
   "metadata": {
    "tags": []
   },
   "outputs": [],
   "source": [
    "drop_columns = [\"primary\", \"c_cb\", \n",
    "       'popdens', 'close_to_border', 'nr_edges12000m_bufferzone',\n",
    "       'maxspeed12000m_bufferzone', 'minspeed12000m_bufferzone',\n",
    "       'maxlanes1500m_bufferzone', 'maxlanes12000m_bufferzone', 'Drenthe',\n",
    "       'Flevoland', 'Friesland', 'Gelderland', 'Groningen', 'Limburg',\n",
    "       'Noord-Brabant', 'Noord-Holland', 'Overijssel', 'Utrecht', 'Zeeland',\n",
    "       'Zuid-Holland', 'popdens_motorway', 'maxlanes_maxlanes1500',\n",
    "       'popdens_Zuid-Holland', 'popdens_Noord-Holland', 'popdens_Utrecht',\n",
    "       'maxlanes12000_Zuid-Holland', 'maxlanes12000_Noord-Holland',\n",
    "       'maxlanes12000_Utrecht', 'maxlanes12000_Noord-Brabant', \n",
    "       'obs_car', 'is_bridge', 'maxmaxspeed', 'total_length12000m_bufferzone', 'uv', 'minlanes12000m_bufferzone']\n",
    "\n",
    "wls3 = my_wls(X_train, X_test, y_train, y_test, drop = drop_columns, W = W)\n",
    "print(\"RMSE on test set = \", wls3[1])\n",
    "print(\"RMSE on train set = \", wls3[3])"
   ]
  },
  {
   "cell_type": "code",
   "execution_count": null,
   "id": "63d1903e-117a-452c-bdf1-e823b77912a5",
   "metadata": {},
   "outputs": [],
   "source": [
    "result_scatter(wls3[2])"
   ]
  },
  {
   "cell_type": "markdown",
   "id": "93817930-049a-40ed-851d-c89cb5df8861",
   "metadata": {},
   "source": [
    "#### adding popdens"
   ]
  },
  {
   "cell_type": "code",
   "execution_count": null,
   "id": "c8f3b205-e0dd-48c1-9dd2-778e45308a86",
   "metadata": {
    "tags": []
   },
   "outputs": [],
   "source": [
    "drop_columns = [\"primary\", \"c_cb\", \n",
    "       'close_to_border', 'nr_edges12000m_bufferzone',\n",
    "       'maxspeed12000m_bufferzone', 'minspeed12000m_bufferzone',\n",
    "       'maxlanes1500m_bufferzone', 'maxlanes12000m_bufferzone', 'Drenthe',\n",
    "       'Flevoland', 'Friesland', 'Gelderland', 'Groningen', 'Limburg',\n",
    "       'Noord-Brabant', 'Noord-Holland', 'Overijssel', 'Utrecht', 'Zeeland',\n",
    "       'Zuid-Holland', 'popdens_motorway', 'maxlanes_maxlanes1500',\n",
    "       'popdens_Zuid-Holland', 'popdens_Noord-Holland', 'popdens_Utrecht',\n",
    "       'maxlanes12000_Zuid-Holland', 'maxlanes12000_Noord-Holland',\n",
    "       'maxlanes12000_Utrecht', 'maxlanes12000_Noord-Brabant',\n",
    "       'obs_car', 'is_bridge', 'maxmaxspeed', 'total_length12000m_bufferzone', 'uv', 'minlanes12000m_bufferzone']\n",
    "\n",
    "wls4 = my_wls(X_train, X_test, y_train, y_test, drop = drop_columns, W = W)\n",
    "print(\"RMSE on test set = \", wls4[1])\n",
    "print(\"RMSE on train set = \", wls4[3])"
   ]
  },
  {
   "cell_type": "code",
   "execution_count": null,
   "id": "ae025c58-cb53-46fc-8971-844ee699821c",
   "metadata": {},
   "outputs": [],
   "source": [
    "result_scatter(wls4[2])"
   ]
  },
  {
   "cell_type": "markdown",
   "id": "8511c732-7a60-4751-97ec-972b23bea504",
   "metadata": {},
   "source": [
    "#### adding interaction between popdens and motorway and adding close-to-border"
   ]
  },
  {
   "cell_type": "code",
   "execution_count": null,
   "id": "c68b8fe5-457e-4aef-8a57-6b01e44a1575",
   "metadata": {
    "tags": []
   },
   "outputs": [],
   "source": [
    "drop_columns = [\"primary\", \"c_cb\", \n",
    "       'nr_edges12000m_bufferzone',\n",
    "       'maxspeed12000m_bufferzone', 'minspeed12000m_bufferzone',\n",
    "       'maxlanes1500m_bufferzone', 'maxlanes12000m_bufferzone', 'Drenthe',\n",
    "       'Flevoland', 'Friesland', 'Gelderland', 'Groningen', 'Limburg',\n",
    "       'Noord-Brabant', 'Noord-Holland', 'Overijssel', 'Utrecht', 'Zeeland',\n",
    "       'Zuid-Holland', 'maxlanes_maxlanes1500',\n",
    "       'popdens_Zuid-Holland', 'popdens_Noord-Holland', 'popdens_Utrecht',\n",
    "       'maxlanes12000_Zuid-Holland', 'maxlanes12000_Noord-Holland',\n",
    "       'maxlanes12000_Utrecht', 'maxlanes12000_Noord-Brabant', \n",
    "       'obs_car', 'is_bridge', 'maxmaxspeed', 'total_length12000m_bufferzone', 'uv', 'minlanes12000m_bufferzone']\n",
    "\n",
    "wls5 = my_wls(X_train, X_test, y_train, y_test, drop = drop_columns, W = W)\n",
    "print(\"RMSE on test set = \", wls5[1])\n",
    "print(\"RMSE on train set = \", wls5[3])"
   ]
  },
  {
   "cell_type": "code",
   "execution_count": null,
   "id": "40e2c042-9928-4f51-a648-50f79ac4ea45",
   "metadata": {},
   "outputs": [],
   "source": [
    "result_scatter(wls5[2])"
   ]
  },
  {
   "cell_type": "markdown",
   "id": "a7db6cc4-231c-4476-acb8-aec9e7d68f0a",
   "metadata": {},
   "source": [
    "#### adding characteristics of surrounding rode network "
   ]
  },
  {
   "cell_type": "code",
   "execution_count": null,
   "id": "a6a741e2-9f38-4397-af09-aacceb84ea8f",
   "metadata": {
    "tags": []
   },
   "outputs": [],
   "source": [
    "drop_columns = [\"primary\", \"c_cb\", \n",
    "       'Drenthe',\n",
    "       'Flevoland', 'Friesland', 'Gelderland', 'Groningen', 'Limburg',\n",
    "       'Noord-Brabant', 'Noord-Holland', 'Overijssel', 'Utrecht', 'Zeeland',\n",
    "       'Zuid-Holland', 'maxlanes_maxlanes1500',\n",
    "       'popdens_Zuid-Holland', 'popdens_Noord-Holland', 'popdens_Utrecht',\n",
    "       'maxlanes12000_Zuid-Holland', 'maxlanes12000_Noord-Holland',\n",
    "       'maxlanes12000_Utrecht', 'maxlanes12000_Noord-Brabant', \n",
    "       'obs_car', 'is_bridge', 'maxmaxspeed', 'total_length12000m_bufferzone', 'uv']\n",
    "\n",
    "wls6 = my_wls(X_train, X_test, y_train, y_test, drop = drop_columns, W = W)\n",
    "print(\"RMSE on test set = \", wls6[1])\n",
    "print(\"RMSE on train set = \", wls6[3])"
   ]
  },
  {
   "cell_type": "code",
   "execution_count": null,
   "id": "e99d77f7-e9fe-4175-afd5-fe3efcfef93c",
   "metadata": {},
   "outputs": [],
   "source": [
    "result_scatter(wls6[2])"
   ]
  },
  {
   "cell_type": "code",
   "execution_count": null,
   "id": "f0a808d8-29d8-42cc-bd3e-4dc079577517",
   "metadata": {},
   "outputs": [],
   "source": [
    "print(wls6[0].summary())"
   ]
  },
  {
   "cell_type": "markdown",
   "id": "8be329fa-5f20-4d4b-af83-70ad4093c3f5",
   "metadata": {},
   "source": [
    "#### adding interaction between maxlanes and maxlanes1500"
   ]
  },
  {
   "cell_type": "code",
   "execution_count": null,
   "id": "03c3f0be-4773-4eb3-8bcd-db6f88496532",
   "metadata": {
    "tags": []
   },
   "outputs": [],
   "source": [
    "drop_columns = [\"primary\", \"c_cb\", \n",
    "       'Drenthe',\n",
    "       'Flevoland', 'Friesland', 'Gelderland', 'Groningen', 'Limburg',\n",
    "       'Noord-Brabant', 'Noord-Holland', 'Overijssel', 'Utrecht', 'Zeeland',\n",
    "       'Zuid-Holland', \n",
    "       'popdens_Zuid-Holland', 'popdens_Noord-Holland', 'popdens_Utrecht',\n",
    "       'maxlanes12000_Zuid-Holland', 'maxlanes12000_Noord-Holland',\n",
    "       'maxlanes12000_Utrecht', 'maxlanes12000_Noord-Brabant', \n",
    "       'obs_car', 'is_bridge', 'maxmaxspeed', 'total_length12000m_bufferzone', 'uv']\n",
    "\n",
    "wls7 = my_wls(X_train, X_test, y_train, y_test, drop = drop_columns, W = W)\n",
    "print(\"RMSE on test set = \", wls7[1])\n",
    "print(\"RMSE on train set = \", wls7[3])"
   ]
  },
  {
   "cell_type": "code",
   "execution_count": null,
   "id": "20724f05-ed79-40b2-b9b7-dd1e401539ed",
   "metadata": {},
   "outputs": [],
   "source": [
    "result_scatter(wls7[2])"
   ]
  },
  {
   "cell_type": "markdown",
   "id": "ae695be8-ecbb-434d-a183-ca66a2c71cf1",
   "metadata": {},
   "source": [
    "#### adding regions"
   ]
  },
  {
   "cell_type": "code",
   "execution_count": null,
   "id": "6550cfeb-cb9e-4c93-923d-9b75784b7848",
   "metadata": {
    "tags": []
   },
   "outputs": [],
   "source": [
    "drop_columns = [\"primary\", \"c_cb\", \n",
    "       'Drenthe',\n",
    "       'popdens_Zuid-Holland', 'popdens_Noord-Holland', 'popdens_Utrecht',\n",
    "       'maxlanes12000_Zuid-Holland', 'maxlanes12000_Noord-Holland',\n",
    "       'maxlanes12000_Utrecht', 'maxlanes12000_Noord-Brabant',\n",
    "       'obs_car', 'is_bridge', 'maxmaxspeed', 'total_length12000m_bufferzone', 'uv']\n",
    "\n",
    "wls8 = my_wls(X_train, X_test, y_train, y_test, drop = drop_columns, W = W)\n",
    "print(\"RMSE on test set = \", wls8[1])\n",
    "print(\"RMSE on train set = \", wls8[3])"
   ]
  },
  {
   "cell_type": "code",
   "execution_count": null,
   "id": "705f8293-13b5-4d75-a178-8b99a005af94",
   "metadata": {},
   "outputs": [],
   "source": [
    "result_scatter(wls8[2])"
   ]
  },
  {
   "cell_type": "markdown",
   "id": "b19aa5a7-e636-4d3b-a144-91ceac638bf9",
   "metadata": {},
   "source": [
    "#### final model: adding interaction with regions"
   ]
  },
  {
   "cell_type": "code",
   "execution_count": null,
   "id": "89a03f8e-06ce-4c1a-bf6e-aac958985ad8",
   "metadata": {},
   "outputs": [],
   "source": [
    "drop_columns = [\"primary\", \"c_cb\", \n",
    "       'Drenthe', \n",
    "       'obs_car', 'is_bridge', 'maxmaxspeed', 'total_length12000m_bufferzone', 'uv']\n",
    "\n",
    "wls9 = my_wls(X_train, X_test, y_train, y_test, drop = drop_columns, W = W)\n",
    "print(wls9[0].summary())\n",
    "print(\"RMSE on test set = \", wls9[1])\n",
    "print(\"RMSE on train set = \", wls9[3])"
   ]
  },
  {
   "cell_type": "code",
   "execution_count": null,
   "id": "a76a925e-c7f5-41ea-9e06-e97c73b0d925",
   "metadata": {
    "tags": []
   },
   "outputs": [],
   "source": [
    "#print results as csv table to built appendix B \n",
    "#print(wls9[0].summary().as_csv())"
   ]
  },
  {
   "cell_type": "code",
   "execution_count": null,
   "id": "9abec377-6bd0-4389-9a9d-7b8618790987",
   "metadata": {},
   "outputs": [],
   "source": [
    "result_scatter(wls9[2])"
   ]
  },
  {
   "cell_type": "markdown",
   "id": "5eaa6615-5b68-4355-a38d-55c873157141",
   "metadata": {},
   "source": [
    "#### Check multicolinearity\n",
    "most VIFs are way below 5, except for some of the dummies of regions (Noord-Holland, Noord-Brabant, Utrecht, Zuid-Holland). However, because they are dummies, they will naturally be correlated with other dummies."
   ]
  },
  {
   "cell_type": "code",
   "execution_count": null,
   "id": "7b182c08-2c65-4f34-8dda-afbcfb27eeaa",
   "metadata": {},
   "outputs": [],
   "source": [
    "# check multicolinearity\n",
    "from statsmodels.stats.outliers_influence import variance_inflation_factor\n",
    "\n",
    "X_variables = X_train.drop(columns = [#'mixed_highwaytypes', 'motorway_link', 'primary_link', 'trunk', 'trunk_link', \n",
    "                                      \"primary\", \"c_cb\", \n",
    "       'Drenthe', \n",
    "       'obs_car',  'popdens_motorway', 'maxlanes_maxlanes1500',\n",
    "       'popdens_Zuid-Holland', 'popdens_Noord-Holland', 'popdens_Utrecht',\n",
    "       'maxlanes12000_Zuid-Holland', 'maxlanes12000_Noord-Holland',\n",
    "       'maxlanes12000_Utrecht', 'maxlanes12000_Noord-Brabant', 'total_length12000m_bufferzone', 'uv' ])\n",
    "\n",
    "vif_data = pd.DataFrame()\n",
    "vif_data[\"feature\"] = X_variables.columns\n",
    "vif_data[\"VIF\"] = [variance_inflation_factor(X_variables.values, i) for i in range(len(X_variables.columns))]\n",
    "print(vif_data) #most VIFs are way below 5, except for some of the dummies of regions (Noord-Holland, Noord-Brabant, Utrecht, Zuid-Holland) and nr_edges_12000"
   ]
  },
  {
   "cell_type": "markdown",
   "id": "b73ed2eb-db3f-4781-a43f-527417d828ac",
   "metadata": {},
   "source": [
    "#### check error distribution"
   ]
  },
  {
   "cell_type": "code",
   "execution_count": null,
   "id": "65acbf11-f640-4bc1-992b-3a841644565e",
   "metadata": {},
   "outputs": [],
   "source": [
    "res = wls9[0].resid # residuals\n",
    "fig = sm.qqplot(res)\n",
    "plt.title(\"QQplot of residuals\")\n",
    "plt.show() #right skewedness"
   ]
  },
  {
   "cell_type": "markdown",
   "id": "1baf3297-151b-42b3-b062-de065129ad43",
   "metadata": {},
   "source": [
    "#### check for linearity and homoskedasticity"
   ]
  },
  {
   "cell_type": "code",
   "execution_count": null,
   "id": "a34201bd-315f-4491-b8cf-eb09edc30dfb",
   "metadata": {},
   "outputs": [],
   "source": [
    "res = wls9[0].resid # residuals\n",
    "fitted = wls9[4] #fitted values\n",
    "plt.title(\"Fitted vs. residuals\")\n",
    "import seaborn as sns\n",
    "sns.residplot(x = fitted, y = res, lowess = True, line_kws={'color': 'red', 'lw': 1, 'alpha': 1})"
   ]
  },
  {
   "cell_type": "code",
   "execution_count": null,
   "id": "84894594-673e-4816-97a4-1ed8736befef",
   "metadata": {},
   "outputs": [],
   "source": [
    "norm_res_abs_sqrt = np.sqrt(np.abs(res)) #square root standardized residuals\n",
    "\n",
    "plt.figure(figsize = (7,7))\n",
    "plt.title(\"fitted vs standardized residuals\")\n",
    "sns.regplot(fitted, norm_res_abs_sqrt, scatter = True, lowess = True,  line_kws={'color': 'red', 'lw': 1, 'alpha': 1})"
   ]
  },
  {
   "cell_type": "markdown",
   "id": "368eec55-48cc-4191-910f-878f963e54ec",
   "metadata": {},
   "source": [
    "#### test for heteroskedasticity"
   ]
  },
  {
   "cell_type": "code",
   "execution_count": null,
   "id": "084987f4-2b6c-4f9d-bb6f-c24c8715416b",
   "metadata": {},
   "outputs": [],
   "source": [
    "from statsmodels.stats.diagnostic import het_white\n",
    "from statsmodels.stats.diagnostic import het_breuschpagan\n",
    "white_test = het_white(res, wls9[0].model.exog)\n",
    "\n",
    "X_variables = X_train.drop(columns = [\"primary\", \"c_cb\", \n",
    "       'Drenthe', 'exp_car',\n",
    "       'obs_car' , 'uv'])\n",
    "bp_test = het_breuschpagan(res, X_variables)"
   ]
  },
  {
   "cell_type": "code",
   "execution_count": null,
   "id": "7d39ce80-073c-4013-9915-b0458ba72d23",
   "metadata": {},
   "outputs": [],
   "source": [
    "label_test = [\"LM statistic\", \"LM test p value\", \"F statistic\", \"F test p value\"]\n",
    "print(dict(zip(label_test, bp_test)))\n",
    "print(dict(zip(label_test, white_test)))"
   ]
  },
  {
   "cell_type": "markdown",
   "id": "5fbc676d-6e35-42d7-ba35-b1b5f539fde3",
   "metadata": {},
   "source": [
    "#### same with random forest"
   ]
  },
  {
   "cell_type": "code",
   "execution_count": null,
   "id": "26b6daf8-0671-4e50-8f2a-d427843b7b11",
   "metadata": {},
   "outputs": [],
   "source": [
    "def my_rf(Xtrain = X_train, Xtest = X_test, ytrain = y_train, ytest = y_test, seed = 4, n_trees = 500, drop = drop_columns, W = W, min_split = 2, min_leaf = 1):\n",
    "    X_train_rf = Xtrain.drop(columns = drop)\n",
    "    X_test_rf = Xtest.drop(columns = drop)\n",
    "\n",
    "    # Instantiate model with 500 decision trees\n",
    "    ranfor = RandomForestRegressor(n_estimators = n_trees, random_state = seed, min_samples_split=min_split, min_samples_leaf=min_leaf)\n",
    "    \n",
    "    # Train the model on training data\n",
    "    ranfor1 = ranfor.fit(X_train_rf, ytrain)\n",
    "    \n",
    "    # Use the forest's predict method on the test data\n",
    "    predictions_train = ranfor1.predict(X_train_rf)\n",
    "    # Calculate the absolute errors\n",
    "    rmse_rf_train = rmse(predictions_train, ytrain)\n",
    "\n",
    "    # Use the forest's predict method on the test data\n",
    "    predictions_test = ranfor1.predict(X_test_rf)\n",
    "    # Calculate the root mean squared error\n",
    "    rmse_rf_test = rmse(predictions_test, ytest)\n",
    "    \n",
    "    importance_plot_gini = plt.barh(X_train_rf.columns, ranfor1.feature_importances_)\n",
    "    importance_table_gini = pd.DataFrame({\"variable\": X_train_rf.columns, \"importance\": ranfor1.feature_importances_}).sort_values(by = [\"importance\"], ascending = False)\n",
    "    \n",
    "    perm_importance = permutation_importance(ranfor1, X_test_rf, y_test, n_repeats=10, random_state=4, n_jobs=2)\n",
    "    importance_table_permutation = pd.DataFrame({\"variable\": X_test_rf.columns, \"importance\": perm_importance.importances_mean}).sort_values(by = [\"importance\"], ascending = False)\n",
    "    importance_table_permutation[\"normalized_importance\"] = ( importance_table_permutation[\"importance\"] - importance_table_permutation[\"importance\"].min() ) / ( importance_table_permutation[\"importance\"].max() - importance_table_permutation[\"importance\"].min() )\n",
    "    \n",
    "    return([ranfor1, rmse_rf_test, predictions_test, importance_plot_gini, importance_table_gini, importance_table_permutation, rmse_rf_train])\n"
   ]
  },
  {
   "cell_type": "code",
   "execution_count": null,
   "id": "84ce96d3-cd06-47a0-8786-c00970fe757d",
   "metadata": {},
   "outputs": [],
   "source": [
    "X_train.columns"
   ]
  },
  {
   "cell_type": "code",
   "execution_count": null,
   "id": "45b1d385-91c3-4240-8292-8a4cae430aa1",
   "metadata": {},
   "outputs": [],
   "source": [
    "#### exp counts only\n",
    "drop_columns = ['const', 'mixed_highwaytypes', 'motorway', 'motorway_link', 'primary',\n",
    "       'primary_link', 'trunk', 'trunk_link', 'c_cb', 'maxlanes',\n",
    "       'popdens', 'close_to_border', 'nr_edges12000m_bufferzone',\n",
    "       'maxspeed12000m_bufferzone', 'minspeed12000m_bufferzone',\n",
    "       'maxlanes1500m_bufferzone', 'maxlanes12000m_bufferzone', 'Drenthe',\n",
    "       'Flevoland', 'Friesland', 'Gelderland', 'Groningen', 'Limburg',\n",
    "       'Noord-Brabant', 'Noord-Holland', 'Overijssel', 'Utrecht', 'Zeeland',\n",
    "       'Zuid-Holland', 'popdens_motorway', 'maxlanes_maxlanes1500',\n",
    "       'popdens_Zuid-Holland', 'popdens_Noord-Holland', 'popdens_Utrecht',\n",
    "       'maxlanes12000_Zuid-Holland', 'maxlanes12000_Noord-Holland',\n",
    "       'maxlanes12000_Utrecht', 'maxlanes12000_Noord-Brabant', 'exp_car_isq',\n",
    "       'obs_car', 'uv', 'minlanes12000m_bufferzone', 'total_length12000m_bufferzone', 'is_bridge', 'maxmaxspeed']\n",
    "rf0 = my_rf(X_train, X_test, y_train, y_test, drop = drop_columns, min_split = 15, min_leaf = 8)\n",
    "rf0[6] #rmse on train set"
   ]
  },
  {
   "cell_type": "code",
   "execution_count": null,
   "id": "229dda7d-c78a-47e2-9824-d3d4902df8f2",
   "metadata": {},
   "outputs": [],
   "source": [
    "rf0[1] #rmse on test set"
   ]
  },
  {
   "cell_type": "code",
   "execution_count": null,
   "id": "86cbe7e8-c39f-4d20-9a60-d71a1558f78f",
   "metadata": {},
   "outputs": [],
   "source": [
    "rf0[5]"
   ]
  },
  {
   "cell_type": "code",
   "execution_count": null,
   "id": "14d8ce00-3fa6-46a1-8faa-d89ed6668b3e",
   "metadata": {},
   "outputs": [],
   "source": [
    "result_scatter(rf0[2])"
   ]
  },
  {
   "cell_type": "markdown",
   "id": "96215475-026b-40b8-82a1-909e3b10a74e",
   "metadata": {},
   "source": [
    "#### highway type"
   ]
  },
  {
   "cell_type": "code",
   "execution_count": null,
   "id": "7b39d6d1-1190-4c68-8c5d-dce213a2bac0",
   "metadata": {},
   "outputs": [],
   "source": [
    "drop_columns = ['const', 'c_cb', 'maxlanes',\n",
    "       'popdens', 'close_to_border', 'nr_edges12000m_bufferzone',\n",
    "       'maxspeed12000m_bufferzone', 'minspeed12000m_bufferzone',\n",
    "       'maxlanes1500m_bufferzone', 'maxlanes12000m_bufferzone', 'Drenthe',\n",
    "       'Flevoland', 'Friesland', 'Gelderland', 'Groningen', 'Limburg',\n",
    "       'Noord-Brabant', 'Noord-Holland', 'Overijssel', 'Utrecht', 'Zeeland',\n",
    "       'Zuid-Holland', 'popdens_motorway', 'maxlanes_maxlanes1500',\n",
    "       'popdens_Zuid-Holland', 'popdens_Noord-Holland', 'popdens_Utrecht',\n",
    "       'maxlanes12000_Zuid-Holland', 'maxlanes12000_Noord-Holland',\n",
    "       'maxlanes12000_Utrecht', 'maxlanes12000_Noord-Brabant', 'uv',\n",
    "       'exp_car_isq','obs_car', 'uv', 'minlanes12000m_bufferzone', 'total_length12000m_bufferzone', 'is_bridge', 'maxmaxspeed']\n",
    "rf1 = my_rf(X_train, X_test, y_train, y_test, drop = drop_columns, min_split = 15, min_leaf = 8)\n",
    "rf1[6] #rmse on train set\n",
    "#plt.scatter(test1[2], y_test)"
   ]
  },
  {
   "cell_type": "code",
   "execution_count": null,
   "id": "4986ff70-5efc-4a76-8972-7833d4291037",
   "metadata": {},
   "outputs": [],
   "source": [
    "rf1[1] #rmse on test set"
   ]
  },
  {
   "cell_type": "code",
   "execution_count": null,
   "id": "8cc1f316-5574-4793-9a58-2e88d7715a4a",
   "metadata": {},
   "outputs": [],
   "source": [
    "rf1[5]"
   ]
  },
  {
   "cell_type": "code",
   "execution_count": null,
   "id": "7c0479ac-f3b6-4c7d-a201-cdd93c4ff0b0",
   "metadata": {},
   "outputs": [],
   "source": [
    "X_result = X_test.copy()\n",
    "X_result[\"ratio_hat\"] = rf1[2]**3\n",
    "X_result[\"c_exp_car\"] = X_result[\"exp_car\"] * X_result[\"ratio_hat\"] #weight is expected car\n",
    "\n",
    "y = X_result[\"obs_car\"] ** (1/2) \n",
    "x = X_result[\"c_exp_car\"] ** (1/2)\n",
    "\n",
    "plot_result(x = x, y = y, x_label = \"$\\sqrt{\\hat{c} * exp}$\", y_label = \"$\\sqrt{obs}$\", save_fig = False, save_path = None)"
   ]
  },
  {
   "cell_type": "markdown",
   "id": "3b6d3323-5006-4131-a887-938e2abc2279",
   "metadata": {},
   "source": [
    "#### add maxplanes"
   ]
  },
  {
   "cell_type": "code",
   "execution_count": null,
   "id": "7e15463b-75fb-4262-b84e-b0b5252abd9c",
   "metadata": {},
   "outputs": [],
   "source": [
    "drop_columns = ['const', 'c_cb',\n",
    "       'popdens', 'close_to_border', 'nr_edges12000m_bufferzone',\n",
    "       'maxspeed12000m_bufferzone', 'minspeed12000m_bufferzone',\n",
    "       'maxlanes1500m_bufferzone', 'maxlanes12000m_bufferzone', 'Drenthe',\n",
    "       'Flevoland', 'Friesland', 'Gelderland', 'Groningen', 'Limburg',\n",
    "       'Noord-Brabant', 'Noord-Holland', 'Overijssel', 'Utrecht', 'Zeeland',\n",
    "       'Zuid-Holland', 'popdens_motorway', 'maxlanes_maxlanes1500',\n",
    "       'popdens_Zuid-Holland', 'popdens_Noord-Holland', 'popdens_Utrecht',\n",
    "       'maxlanes12000_Zuid-Holland', 'maxlanes12000_Noord-Holland',\n",
    "       'maxlanes12000_Utrecht', 'maxlanes12000_Noord-Brabant', 'uv',\n",
    "       'exp_car_isq','obs_car', 'uv', 'minlanes12000m_bufferzone', 'total_length12000m_bufferzone', 'is_bridge', 'maxmaxspeed']\n",
    "rf2 = my_rf(X_train, X_test, y_train, y_test, drop = drop_columns, min_split = 15, min_leaf = 8)\n",
    "rf2[6]"
   ]
  },
  {
   "cell_type": "code",
   "execution_count": null,
   "id": "559372c7-1e93-49e0-967d-766eae527078",
   "metadata": {},
   "outputs": [],
   "source": [
    "rf2[1]"
   ]
  },
  {
   "cell_type": "code",
   "execution_count": null,
   "id": "2aeff73b-52bc-4764-b8ce-a084b6556fc4",
   "metadata": {},
   "outputs": [],
   "source": [
    "rf2[5].head()"
   ]
  },
  {
   "cell_type": "code",
   "execution_count": null,
   "id": "09d5c90b-a6fa-4487-94df-485f18620904",
   "metadata": {},
   "outputs": [],
   "source": [
    "X_result = X_test.copy()\n",
    "X_result[\"ratio_hat\"] = rf2[2]**3\n",
    "X_result[\"c_exp_car\"] = X_result[\"exp_car\"] * X_result[\"ratio_hat\"] #weight is expected car\n",
    "\n",
    "y = X_result[\"obs_car\"] ** (1/2) \n",
    "x = X_result[\"c_exp_car\"] ** (1/2)\n",
    "\n",
    "plot_result(x = x, y = y, x_label = \"$\\sqrt{\\hat{c} * exp}$\", y_label = \"$\\sqrt{obs}$\", save_fig = False, save_path = None)"
   ]
  },
  {
   "cell_type": "markdown",
   "id": "39f18395-159e-4cd6-bad4-40a0a1baac0e",
   "metadata": {
    "tags": []
   },
   "source": [
    "#### add popdens"
   ]
  },
  {
   "cell_type": "code",
   "execution_count": null,
   "id": "f353a0d9-d851-42db-93f3-571c776e4d7e",
   "metadata": {
    "tags": []
   },
   "outputs": [],
   "source": [
    "drop_columns = ['const', 'c_cb',\n",
    "    'close_to_border', 'nr_edges12000m_bufferzone',\n",
    "       'maxspeed12000m_bufferzone', 'minspeed12000m_bufferzone',\n",
    "       'maxlanes1500m_bufferzone', 'maxlanes12000m_bufferzone', 'Drenthe',\n",
    "       'Flevoland', 'Friesland', 'Gelderland', 'Groningen', 'Limburg',\n",
    "       'Noord-Brabant', 'Noord-Holland', 'Overijssel', 'Utrecht', 'Zeeland',\n",
    "       'Zuid-Holland', 'popdens_motorway', 'maxlanes_maxlanes1500',\n",
    "       'popdens_Zuid-Holland', 'popdens_Noord-Holland', 'popdens_Utrecht',\n",
    "       'maxlanes12000_Zuid-Holland', 'maxlanes12000_Noord-Holland',\n",
    "       'maxlanes12000_Utrecht', 'maxlanes12000_Noord-Brabant', 'uv',\n",
    "       'exp_car_isq','obs_car', 'uv', 'minlanes12000m_bufferzone', 'total_length12000m_bufferzone', 'maxmaxspeed', 'is_bridge']\n",
    "rf3 = my_rf(X_train, X_test, y_train, y_test, drop = drop_columns, min_split = 15, min_leaf = 8)\n",
    "rf3[6]"
   ]
  },
  {
   "cell_type": "code",
   "execution_count": null,
   "id": "a63e45ea-ac6b-4b1e-adb8-3e8cc2bba855",
   "metadata": {},
   "outputs": [],
   "source": [
    "rf3[1]"
   ]
  },
  {
   "cell_type": "code",
   "execution_count": null,
   "id": "c97271f1-b502-4669-bee5-c2e199a5fadd",
   "metadata": {},
   "outputs": [],
   "source": [
    "rf3[5].head()"
   ]
  },
  {
   "cell_type": "code",
   "execution_count": null,
   "id": "a4d0d681-390b-40cd-9ef1-8c658df531a3",
   "metadata": {},
   "outputs": [],
   "source": [
    "X_result = X_test.copy()\n",
    "X_result[\"ratio_hat\"] = rf3[2]**3\n",
    "X_result[\"c_exp_car\"] = X_result[\"exp_car\"] * X_result[\"ratio_hat\"] #weight is expected car\n",
    "\n",
    "y = X_result[\"obs_car\"] ** (1/2) \n",
    "x = X_result[\"c_exp_car\"] ** (1/2)\n",
    "\n",
    "plot_result(x = x, y = y, x_label = \"$\\sqrt{\\hat{c} * exp}$\", y_label = \"$\\sqrt{obs}$\", save_fig = False, save_path = None)"
   ]
  },
  {
   "cell_type": "markdown",
   "id": "76bb8c05-23b6-42ad-a3d7-623fb3efab8d",
   "metadata": {
    "tags": []
   },
   "source": [
    "#### add border closeness"
   ]
  },
  {
   "cell_type": "code",
   "execution_count": null,
   "id": "19f1e081-b9f5-4040-a2e2-d69950e223da",
   "metadata": {
    "tags": []
   },
   "outputs": [],
   "source": [
    "drop_columns = ['const', 'c_cb',\n",
    "    'nr_edges12000m_bufferzone',\n",
    "       'maxspeed12000m_bufferzone', 'minspeed12000m_bufferzone',\n",
    "       'maxlanes1500m_bufferzone', 'maxlanes12000m_bufferzone', 'Drenthe',\n",
    "       'Flevoland', 'Friesland', 'Gelderland', 'Groningen', 'Limburg',\n",
    "       'Noord-Brabant', 'Noord-Holland', 'Overijssel', 'Utrecht', 'Zeeland',\n",
    "       'Zuid-Holland', 'popdens_motorway', 'maxlanes_maxlanes1500',\n",
    "       'popdens_Zuid-Holland', 'popdens_Noord-Holland', 'popdens_Utrecht',\n",
    "       'maxlanes12000_Zuid-Holland', 'maxlanes12000_Noord-Holland',\n",
    "       'maxlanes12000_Utrecht', 'maxlanes12000_Noord-Brabant', 'uv',\n",
    "       'exp_car_isq','obs_car', 'uv', 'minlanes12000m_bufferzone', 'total_length12000m_bufferzone', 'maxmaxspeed', 'is_bridge']\n",
    "rf4 = my_rf(X_train, X_test, y_train, y_test, drop = drop_columns, min_split = 15, min_leaf = 8)\n",
    "rf4[6]"
   ]
  },
  {
   "cell_type": "code",
   "execution_count": null,
   "id": "65c7e792-ae94-46b3-9a47-3b5b91677bcb",
   "metadata": {},
   "outputs": [],
   "source": [
    "rf4[1]"
   ]
  },
  {
   "cell_type": "code",
   "execution_count": null,
   "id": "991c016c-91af-46b9-91df-e51e8ce7f273",
   "metadata": {},
   "outputs": [],
   "source": [
    "rf4[5].head()"
   ]
  },
  {
   "cell_type": "code",
   "execution_count": null,
   "id": "fb73e393-9063-4fd4-b8a3-8acfb17a452f",
   "metadata": {},
   "outputs": [],
   "source": [
    "X_result = X_test.copy()\n",
    "X_result[\"ratio_hat\"] = rf4[2]**3\n",
    "X_result[\"c_exp_car\"] = X_result[\"exp_car\"] * X_result[\"ratio_hat\"] #weight is expected car\n",
    "\n",
    "y = X_result[\"obs_car\"] ** (1/2) \n",
    "x = X_result[\"c_exp_car\"] ** (1/2)\n",
    "\n",
    "plot_result(x = x, y = y, x_label = \"$\\sqrt{\\hat{c} * exp}$\", y_label = \"$\\sqrt{obs}$\", save_fig = False, save_path = None)"
   ]
  },
  {
   "cell_type": "markdown",
   "id": "99817406-ac02-4291-82f2-67696d096edf",
   "metadata": {
    "tags": []
   },
   "source": [
    "#### add road net characteristics"
   ]
  },
  {
   "cell_type": "code",
   "execution_count": null,
   "id": "f09b2fdf-e830-487e-9bc2-0cf48c68abce",
   "metadata": {
    "tags": []
   },
   "outputs": [],
   "source": [
    "drop_columns = ['const', 'c_cb',\n",
    "     'Drenthe',\n",
    "       'Flevoland', 'Friesland', 'Gelderland', 'Groningen', 'Limburg',\n",
    "       'Noord-Brabant', 'Noord-Holland', 'Overijssel', 'Utrecht', 'Zeeland',\n",
    "       'Zuid-Holland', 'popdens_motorway', 'maxlanes_maxlanes1500',\n",
    "       'popdens_Zuid-Holland', 'popdens_Noord-Holland', 'popdens_Utrecht',\n",
    "       'maxlanes12000_Zuid-Holland', 'maxlanes12000_Noord-Holland',\n",
    "       'maxlanes12000_Utrecht', 'maxlanes12000_Noord-Brabant', 'uv',\n",
    "       'exp_car_isq','obs_car', 'uv', 'minlanes12000m_bufferzone', 'total_length12000m_bufferzone', 'maxmaxspeed', 'is_bridge']\n",
    "rf5 = my_rf(X_train, X_test, y_train, y_test, drop = drop_columns, min_split = 15, min_leaf = 8)\n",
    "rf5[6]"
   ]
  },
  {
   "cell_type": "code",
   "execution_count": null,
   "id": "caf8197f-a16d-408e-9250-d53ad70dbc42",
   "metadata": {},
   "outputs": [],
   "source": [
    "rf5[1]"
   ]
  },
  {
   "cell_type": "code",
   "execution_count": null,
   "id": "3a675ae9-b05c-4a4a-b23e-18c61f813a3f",
   "metadata": {},
   "outputs": [],
   "source": [
    "rf5[5].head()"
   ]
  },
  {
   "cell_type": "code",
   "execution_count": null,
   "id": "a9645e1e-9d7e-4617-910d-c41792c27c85",
   "metadata": {},
   "outputs": [],
   "source": [
    "X_result = X_test.copy()\n",
    "X_result[\"ratio_hat\"] = rf5[2]**3\n",
    "X_result[\"c_exp_car\"] = X_result[\"exp_car\"] * X_result[\"ratio_hat\"] #weight is expected car\n",
    "\n",
    "y = X_result[\"obs_car\"] ** (1/2) \n",
    "x = X_result[\"c_exp_car\"] ** (1/2)\n",
    "\n",
    "plot_result(x = x, y = y, x_label = \"$\\sqrt{\\hat{c} * exp}$\", y_label = \"$\\sqrt{obs}$\", save_fig = False, save_path = None)"
   ]
  },
  {
   "cell_type": "markdown",
   "id": "4aa15638-d1c1-44af-a678-1555bc912f43",
   "metadata": {
    "tags": []
   },
   "source": [
    "#### add regions"
   ]
  },
  {
   "cell_type": "code",
   "execution_count": null,
   "id": "52738fc1-f014-4616-95c1-77bb58437d6a",
   "metadata": {
    "tags": []
   },
   "outputs": [],
   "source": [
    "drop_columns = ['const', 'c_cb',\n",
    "      'popdens_motorway', 'maxlanes_maxlanes1500',\n",
    "       'popdens_Zuid-Holland', 'popdens_Noord-Holland', 'popdens_Utrecht',\n",
    "       'maxlanes12000_Zuid-Holland', 'maxlanes12000_Noord-Holland',\n",
    "       'maxlanes12000_Utrecht', 'maxlanes12000_Noord-Brabant', \n",
    "       'exp_car_isq','obs_car', 'uv', 'minlanes12000m_bufferzone', 'total_length12000m_bufferzone', 'maxmaxspeed', 'is_bridge', \"uv\"]\n",
    "rf6 = my_rf(X_train, X_test, y_train, y_test, drop = drop_columns, min_split = 15, min_leaf = 8)\n",
    "rf6[6]"
   ]
  },
  {
   "cell_type": "code",
   "execution_count": null,
   "id": "bc3a41f5-34c8-432b-ade5-1009ef5f50da",
   "metadata": {},
   "outputs": [],
   "source": [
    "rf6[1]"
   ]
  },
  {
   "cell_type": "code",
   "execution_count": null,
   "id": "ac4811d9-f833-4fdb-9cbd-5b6bebbc7198",
   "metadata": {},
   "outputs": [],
   "source": [
    "#Save the importance as an excel to built the table in Appendix B\n",
    "#rf6[5].to_excel(\"rf6_importance.xlsx\")"
   ]
  },
  {
   "cell_type": "code",
   "execution_count": null,
   "id": "7e2f39de-343e-447a-8022-389efeaf371e",
   "metadata": {},
   "outputs": [],
   "source": [
    "X_result = X_test.copy()\n",
    "X_result[\"ratio_hat\"] = rf5[2]**3\n",
    "X_result[\"c_exp_car\"] = X_result[\"exp_car\"] * X_result[\"ratio_hat\"] #weight is expected car\n",
    "\n",
    "y = X_result[\"obs_car\"] ** (1/2) \n",
    "x = X_result[\"c_exp_car\"] ** (1/2)\n",
    "\n",
    "plot_result(x = x, y = y, x_label = \"$\\sqrt{\\hat{c} * exp}$\", y_label = \"$\\sqrt{obs}$\", save_fig = True, save_path = \"playgorund/obs_c_exp_rf_scatter.pdf\")"
   ]
  },
  {
   "cell_type": "markdown",
   "id": "27a7f703-ed86-4cb3-ba93-d7813adf7d6c",
   "metadata": {},
   "source": [
    "# Expected counts after calibration\n",
    "In the test set only, compared with observed counts in the test set"
   ]
  },
  {
   "cell_type": "code",
   "execution_count": null,
   "id": "32077dde-ff54-4a3a-958f-77b656e923be",
   "metadata": {},
   "outputs": [],
   "source": [
    "fig, ax = plt.subplots(figsize = (6,4))\n",
    "plt.style.use(\"bmh\")\n",
    "# Plots #\n",
    "    # Plot histogram\n",
    "X_result[\"c_exp_car\"].plot(kind = \"hist\", density = False, alpha = 0.8, bins = 70) # change density to true, because KDE uses density\n",
    "\n",
    "# X #\n",
    "ax.set_xlabel(\"Counts\")\n",
    "\n",
    "# Y #\n",
    "#ax.set_yticks([])\n",
    "    # Relabel the axis as \"Frequency\"\n",
    "ax.set_ylabel(\"Frequency\")\n",
    "\n",
    "# Overall #\n",
    "#ax.set_title(\"Observed traffic counts\")\n",
    "# Remove ticks and spines\n",
    "ax.tick_params(left = False, bottom = False)\n",
    "for ax, spine in ax.spines.items():\n",
    "    spine.set_visible(False)\n",
    "\n",
    "plt.grid(False)\n",
    "plt.rcParams['font.family'] = ['serif']\n",
    "#fig.savefig(\"figures/c_exp_hist_test158.pdf\", bbox_inches = \"tight\", pad_inches = 0, dpi=10, format = \"pdf\")\n",
    "plt.show()"
   ]
  },
  {
   "cell_type": "code",
   "execution_count": null,
   "id": "f9864cf8-86a2-48d2-9939-ede420b17ade",
   "metadata": {},
   "outputs": [],
   "source": [
    "fig, ax = plt.subplots(figsize = (6,4))\n",
    "plt.style.use(\"bmh\")\n",
    "# Plots #\n",
    "    # Plot histogram\n",
    "X_result[\"obs_car\"].plot(kind = \"hist\", density = False, alpha = 0.8, bins = 70) # change density to true, because KDE uses density\n",
    "\n",
    "# X #\n",
    "ax.set_xlabel(\"Counts\")\n",
    "\n",
    "# Y #\n",
    "#ax.set_yticks([])\n",
    "    # Relabel the axis as \"Frequency\"\n",
    "ax.set_ylabel(\"Frequency\")\n",
    "\n",
    "# Overall #\n",
    "#ax.set_title(\"Observed traffic counts\")\n",
    "# Remove ticks and spines\n",
    "ax.tick_params(left = False, bottom = False)\n",
    "for ax, spine in ax.spines.items():\n",
    "    spine.set_visible(False)\n",
    "\n",
    "plt.grid(False)\n",
    "plt.rcParams['font.family'] = ['serif']\n",
    "#fig.savefig(\"figures/obs_hist_test158.pdf\", bbox_inches = \"tight\", pad_inches = 0, dpi=10, format = \"pdf\")\n",
    "plt.show()"
   ]
  },
  {
   "cell_type": "markdown",
   "id": "789b386f-f33d-4aba-b08e-e4959698166a",
   "metadata": {},
   "source": [
    "#### applying model to full dataset\n",
    "This is not really representative, because the additional ~30% are likely due to overfitting the train data, which is also part of the full dataset"
   ]
  },
  {
   "cell_type": "code",
   "execution_count": null,
   "id": "302f5a64-d2d7-41be-ad55-a6b0e52927f3",
   "metadata": {
    "tags": []
   },
   "outputs": [],
   "source": [
    "drop_columns = ['const', 'c_cb',\n",
    "      'popdens_motorway', 'maxlanes_maxlanes1500',\n",
    "       'popdens_Zuid-Holland', 'popdens_Noord-Holland', 'popdens_Utrecht',\n",
    "       'maxlanes12000_Zuid-Holland', 'maxlanes12000_Noord-Holland',\n",
    "       'maxlanes12000_Utrecht', 'maxlanes12000_Noord-Brabant', \n",
    "       'exp_car_isq','obs_car', 'uv', 'minlanes12000m_bufferzone', 'total_length12000m_bufferzone', 'maxmaxspeed', 'is_bridge']\n",
    "X_result = X.drop(columns = drop_columns)\n",
    "X_result[\"cuberoot_ratio\"] = rf6[0].predict(X_result)\n",
    "X_result[\"ratio_hat\"] = X_result[\"cuberoot_ratio\"]**3\n",
    "X_result[\"c_exp_car\"] = X_result[\"exp_car\"] * X_result[\"ratio_hat\"] #weight is expected car\n",
    "X_result[\"obs_car\"] = X[\"obs_car\"]\n",
    "y = X_result[\"obs_car\"] ** (1/2) \n",
    "x = X_result[\"c_exp_car\"] ** (1/2)\n",
    "\n",
    "plot_result(x = x, y = y, x_label = \"$\\sqrt{\\hat{c} * exp}$\", y_label = \"$\\sqrt{obs}$\", save_fig = False, save_path = None)"
   ]
  },
  {
   "cell_type": "markdown",
   "id": "df0bdffc-773d-4ee8-86ec-0911ebca5655",
   "metadata": {},
   "source": [
    "# Visualize C* of the test set on the map of the road network\n",
    "This is the ratio of observed counts to <b> calibrated </b>  expected counts."
   ]
  },
  {
   "cell_type": "code",
   "execution_count": null,
   "id": "8df50b2a-4384-4a17-a59d-f5a793358797",
   "metadata": {},
   "outputs": [],
   "source": [
    "#I am doing this now with X_result as X_test\n",
    "X_result[\"cs\"] = X_result[\"obs_car\"] / X_result[\"c_exp_car\"]\n",
    "X_result[\"uv\"] = X_test[\"uv\"]\n",
    "X_calibrated = X_result[[\"c_exp_car\", \"cs\", \"uv\"]]"
   ]
  },
  {
   "cell_type": "code",
   "execution_count": null,
   "id": "69926df5-d0b8-42da-9ba8-448d9119cbfe",
   "metadata": {},
   "outputs": [],
   "source": [
    "edges_calibrated = edges_model.merge(X_calibrated, on = \"uv\", how = \"inner\")"
   ]
  },
  {
   "cell_type": "code",
   "execution_count": null,
   "id": "ec49d1a2-cb66-4981-a9fb-f9e7add94060",
   "metadata": {},
   "outputs": [],
   "source": [
    "edges_calibrated[\"cs_cb\"] = edges_calibrated[\"cs\"] ** (1/3)\n",
    "edges_calibrated[\"cs_cb\"].hist(bins = 100) "
   ]
  },
  {
   "cell_type": "markdown",
   "id": "578dc3f4-f01d-4415-9ff7-9c99b66b6614",
   "metadata": {},
   "source": [
    "#### create colormap"
   ]
  },
  {
   "cell_type": "code",
   "execution_count": null,
   "id": "c83cb555-2bfb-435f-98ef-d518b62998d2",
   "metadata": {},
   "outputs": [],
   "source": [
    "#colorscale for c and c*\n",
    "#first normalize variables even more \n",
    "edges_calibrated[\"c_sqrt\"] = edges_calibrated.c_cb** (1/2)\n",
    "edges_calibrated[\"cs_sqrt\"] = edges_calibrated.cs_cb** (1/2)\n",
    "\n",
    "#there is one case in cs sqrt which is lower than the min of c_sqrt. This causes problems in the binning. I will therefore replace this value in cs_sqrt with the min of c_sqrt. For the quality measure interpretation, the difference is meaningless, but for plotting, it is necessary\n",
    "edges_calibrated[\"cs_sqrt\"] = np.where(edges_calibrated[\"cs_sqrt\"] < edges_calibrated[\"c_sqrt\"].min(), edges_calibrated[\"c_sqrt\"], edges_calibrated[\"cs_sqrt\"])\n",
    "#create 100 bins and fill them with c_sqrt\n",
    "c_binned, bins = pd.cut(edges_calibrated.c_sqrt, 100, retbins = True, labels = False)\n",
    "cs_binned = pd.cut(edges_calibrated.cs_sqrt, bins = bins, labels = False, include_lowest = True)\n",
    "\n",
    "#add to DF but add +1 to each value to keep 0 as lowest\n",
    "edges_calibrated[\"c_plot\"] = c_binned +1\n",
    "edges_calibrated[\"cs_plot\"] = cs_binned +1\n",
    "\n",
    "#create colorscales\n",
    "# Diverging color scale to see both below and above 1 values, set lowest value to grey colour\n",
    "# colormap for c\n",
    "seismic = cm.get_cmap('seismic', 101)\n",
    "seismic_colors = seismic(np.linspace(0.175, 1, 101))\n",
    "darkgrey = np.array([0.5, 0.5, 0.5, 0.15]) #the fourth value sets the transparency of the color. This is necessary, because the grey roads would otherwise cover up the colored roads\n",
    "seismic_colors[:1 :] = darkgrey\n",
    "seismiccmp = ListedColormap(seismic_colors)\n",
    "\n",
    "#colormap for c*\n",
    "#get min and max of cs_plot to cut off top and bottom of scale, multiply by 0.01 to get value between 0 and 1\n",
    "cs_min = edges_calibrated[\"cs_plot\"].min() * 0.01\n",
    "cs_max = edges_calibrated[\"cs_plot\"].max() * 0.01\n",
    "\n",
    "seismic_colors2 = seismic(np.linspace(cs_min+ 0.175, cs_max, 101))\n",
    "seismic_colors2[:1 :] = darkgrey\n",
    "\n",
    "seismiccmp2 = ListedColormap(seismic_colors2)\n",
    "\n",
    "plot_examples([seismiccmp, seismiccmp2])"
   ]
  },
  {
   "cell_type": "code",
   "execution_count": null,
   "id": "a83c2e09-c17d-4b32-8c4b-64690ca9016e",
   "metadata": {},
   "outputs": [],
   "source": [
    "# no grey for colorbar legend\n",
    "seismic_colors2ng = seismic(np.linspace(cs_min+ 0.175, cs_max, 101))\n",
    "seismiccmp_cb2 = ListedColormap(seismic_colors2ng)"
   ]
  },
  {
   "cell_type": "code",
   "execution_count": null,
   "id": "8f107cb6-89c0-470c-a5e2-49db954f2cbe",
   "metadata": {},
   "outputs": [],
   "source": [
    "plot_examples([seismiccmp_cb2], lo = edges_calibrated[\"cs_plot\"].min(), hi = edges_calibrated[\"cs_plot\"].max())"
   ]
  },
  {
   "cell_type": "code",
   "execution_count": null,
   "id": "53db3d76-769e-4a53-96a1-662b1c1aa7d9",
   "metadata": {},
   "outputs": [],
   "source": [
    "plt.scatter(edges_calibrated[\"cs_plot\"], edges_calibrated[\"cs\"], s = 1) #in this plot, the midpoint is somewhere around 42"
   ]
  },
  {
   "cell_type": "code",
   "execution_count": null,
   "id": "0c4e36e5-a018-498a-80aa-dce185147a03",
   "metadata": {},
   "outputs": [],
   "source": [
    "nodes, edges = ox.graph_to_gdfs(Ngraph) #get full list of edges back from Ngraph (edges2 only contains edges with sensors)"
   ]
  },
  {
   "cell_type": "code",
   "execution_count": null,
   "id": "a978da81-2ac1-4423-9aa4-293ffea85f0a",
   "metadata": {},
   "outputs": [],
   "source": [
    "edges_calibrated[\"node_from\"] = edges_calibrated.u\n",
    "edges_calibrated[\"node_to\"] = edges_calibrated.v"
   ]
  },
  {
   "cell_type": "code",
   "execution_count": null,
   "id": "71ce4e6c-7e94-400d-8d9d-34868d3c1d04",
   "metadata": {},
   "outputs": [],
   "source": [
    "edges = add_features_to_edge(edges_calibrated, edges, features = [\"cs_plot\"], indexerror = 0)"
   ]
  },
  {
   "cell_type": "code",
   "execution_count": null,
   "id": "54811b53-9fbf-4971-b48b-9abcd1a00949",
   "metadata": {},
   "outputs": [],
   "source": [
    "graph = ox.graph_from_gdfs(nodes, edges)\n",
    "ec = ox.plot.get_edge_colors_by_attr(graph, attr=\"cs_plot\", cmap= seismiccmp2)\n",
    "\n",
    "fig, ax = ox.plot_graph(graph, node_color=\"w\", node_edgecolor=\"k\", node_size=0, edge_color=ec, edge_linewidth=2, show = False) \n",
    "\n",
    "# add colorbar\n",
    "sm = mpl.cm.ScalarMappable(cmap = seismiccmp_cb2)\n",
    "cb = fig.colorbar(cm.ScalarMappable(cmap = seismiccmp_cb2), ax = ax, location = 'right', shrink = 0.8, ticks = [0, 42*0.01 + 0.275 , 1])\n",
    "cb.ax.set_yticklabels([int(edges_calibrated.cs.min()), '1', int(edges_calibrated.cs.max())])\n",
    "cb.ax.set_ylabel('C*', rotation = 0)\n",
    "\n",
    "\n",
    "#fig.savefig(\"playgorund/c_map.pdf\", format = \"pdf\", bbox_inches = \"tight\", pad_inches = 0, dpi = 1000) #bbox_inches and pad_inches ensure that there is no white frame around the plot\n",
    "plt.show()"
   ]
  },
  {
   "cell_type": "markdown",
   "id": "35718740-d85a-4349-8909-6051dc6f1724",
   "metadata": {},
   "source": [
    "### predict obs counts with exp counts and backtransform to compute average error\n",
    "I did not put this into the thesis, because I didn't have the time anymore. But it is worthwhile to check, because it gives you the average deviation from the observed value in the unit of cars. "
   ]
  },
  {
   "cell_type": "code",
   "execution_count": null,
   "id": "4be406fb-eb26-4442-bc62-a42bdca07c9a",
   "metadata": {},
   "outputs": [],
   "source": [
    "X_result = X_test.copy()\n",
    "X_result[\"ratio_hat\"] = rf6[2]**3\n",
    "X_result[\"c_exp_car\"] = X_result[\"exp_car\"] * X_result[\"ratio_hat\"] #weight is expected car"
   ]
  },
  {
   "cell_type": "code",
   "execution_count": null,
   "id": "1a7c3ab6-7260-4043-8ec1-967d3a04ee3c",
   "metadata": {},
   "outputs": [],
   "source": [
    "X_result[\"sq_obs_car\"] = X_result[\"obs_car\"] ** (1/2) \n",
    "X_result[\"sq_c_exp_car\"] = X_result[\"c_exp_car\"] ** (1/2)\n",
    "\n",
    "y = X_result[\"sq_obs_car\"]\n",
    "x = X_result[[\"const\", \"sq_c_exp_car\"]]\n",
    "o1 = sm.OLS(y, x).fit()"
   ]
  },
  {
   "cell_type": "code",
   "execution_count": null,
   "id": "b3eafb44-e6f8-48a8-9ed2-3ff7cd0fefd0",
   "metadata": {},
   "outputs": [],
   "source": [
    "y_pred = o1.predict(x)\n",
    "X_result[\"backtransformedypred\"] = y_pred ** 2"
   ]
  },
  {
   "cell_type": "code",
   "execution_count": null,
   "id": "10891b4b-df2f-45d7-a162-827b227b6bf5",
   "metadata": {},
   "outputs": [],
   "source": [
    "X_result[\"error_obsexp\"] =  X_result[\"backtransformedypred\"] - X_result[\"obs_car\"]\n",
    "X_result[\"error_obsexp2\"] = (X_result[\"backtransformedypred\"] - X_result[\"obs_car\"])**2\n",
    "\n",
    "X_result[\"error_obsexp2_n\"] = (( X_result[\"backtransformedypred\"] - X_result[\"obs_car\"])**2) / len(X_result)\n",
    "my_rmse = (sum(X_result[\"error_obsexp2_n\"]))**(1/2)\n",
    "print(my_rmse)"
   ]
  },
  {
   "cell_type": "code",
   "execution_count": null,
   "id": "ee95a75a-2406-412c-86fe-233950f52be5",
   "metadata": {},
   "outputs": [],
   "source": [
    "X_result[\"error_obsexp\"].hist(bins = 100)"
   ]
  },
  {
   "cell_type": "code",
   "execution_count": null,
   "id": "98111ead-e63e-49f8-a37a-1e866ed1ffa9",
   "metadata": {},
   "outputs": [],
   "source": [
    "X_result[\"error_obsexp\"].describe()"
   ]
  },
  {
   "cell_type": "code",
   "execution_count": null,
   "id": "6758ce3d-4bb4-41a8-9634-05b241e96029",
   "metadata": {},
   "outputs": [],
   "source": [
    "err = X_result[\"error_obsexp2\"]**(1/2)\n",
    "err.describe()"
   ]
  },
  {
   "cell_type": "code",
   "execution_count": null,
   "id": "7e885a8e-b451-4d60-8325-f4ae1014e053",
   "metadata": {},
   "outputs": [],
   "source": [
    "(sum((( X_result[\"backtransformedypred\"] - X_result[\"obs_car\"])**2) / len(X_result)))**(1/2)"
   ]
  },
  {
   "cell_type": "code",
   "execution_count": null,
   "id": "060d2497-4107-40de-8be1-e8c8894e8e59",
   "metadata": {},
   "outputs": [],
   "source": [
    "errorbefore = X_result[\"exp_car\"] - X_result[\"obs_car\"]\n",
    "errorbefore.hist(bins = 100)"
   ]
  },
  {
   "cell_type": "code",
   "execution_count": null,
   "id": "9d5f88de-439c-431f-b9c3-a1ac97e66c6d",
   "metadata": {},
   "outputs": [],
   "source": [
    "errorbefore.describe()"
   ]
  },
  {
   "cell_type": "code",
   "execution_count": null,
   "id": "b888e53f-8c28-4790-905f-80e3d84faff9",
   "metadata": {},
   "outputs": [],
   "source": []
  }
 ],
 "metadata": {
  "kernelspec": {
   "display_name": "Python [conda env:ml]",
   "language": "python",
   "name": "conda-env-ml-py"
  },
  "language_info": {
   "codemirror_mode": {
    "name": "ipython",
    "version": 3
   },
   "file_extension": ".py",
   "mimetype": "text/x-python",
   "name": "python",
   "nbconvert_exporter": "python",
   "pygments_lexer": "ipython3",
   "version": "3.8.5"
  }
 },
 "nbformat": 4,
 "nbformat_minor": 5
}
